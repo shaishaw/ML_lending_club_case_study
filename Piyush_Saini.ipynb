{
 "cells": [
  {
   "cell_type": "markdown",
   "metadata": {},
   "source": [
    "# Business Objectives\n",
    "\n",
    "\n",
    "\n",
    "\n",
    "\n"
   ]
  },
  {
   "cell_type": "markdown",
   "metadata": {},
   "source": [
    "Lending Club company is the largest online loan marketplace, facilitating personal loans, business loans, and financing of medical procedures. \n",
    "\n",
    " - Borrowers can easily access lower interest rate loans through a fast online interface.\n",
    " - Identify the risky loan applicants.\n",
    " - The company wants to understand the driving factors (or driver variables) behind loan default, \n",
    "   i.e. the variables which are strong indicators of default. "
   ]
  },
  {
   "cell_type": "code",
   "execution_count": 119,
   "metadata": {},
   "outputs": [],
   "source": [
    "import numpy as np \n",
    "import pandas as pd\n",
    "import matplotlib.pyplot as plt\n",
    "import re # regex library for string operations\n",
    "import seaborn as sns\n",
    "plt.style.use('fivethirtyeight')\n",
    "import warnings\n",
    "warnings.filterwarnings('ignore')\n",
    "%matplotlib inline\n",
    "\n",
    "pd.set_option('display.max_columns', 100) # display a N number of columns\n",
    "pd.set_option('display.max_rows', 100) # display a N number rows\n",
    "pd.set_option('display.width', 1000) # dataframe display width to N\n",
    "pd.set_option('display.float_format', lambda x: '%.1f' % x) # setting dataframe to use float format"
   ]
  },
  {
   "cell_type": "code",
   "execution_count": 120,
   "metadata": {},
   "outputs": [],
   "source": [
    "loan = pd.read_csv(\"loan.csv\",encoding = \"ISO-8859-1\")"
   ]
  },
  {
   "cell_type": "markdown",
   "metadata": {},
   "source": [
    "# Exploratory Data Analysis"
   ]
  },
  {
   "cell_type": "code",
   "execution_count": 121,
   "metadata": {},
   "outputs": [
    {
     "data": {
      "text/html": [
       "<div>\n",
       "<style scoped>\n",
       "    .dataframe tbody tr th:only-of-type {\n",
       "        vertical-align: middle;\n",
       "    }\n",
       "\n",
       "    .dataframe tbody tr th {\n",
       "        vertical-align: top;\n",
       "    }\n",
       "\n",
       "    .dataframe thead th {\n",
       "        text-align: right;\n",
       "    }\n",
       "</style>\n",
       "<table border=\"1\" class=\"dataframe\">\n",
       "  <thead>\n",
       "    <tr style=\"text-align: right;\">\n",
       "      <th></th>\n",
       "      <th>id</th>\n",
       "      <th>member_id</th>\n",
       "      <th>loan_amnt</th>\n",
       "      <th>funded_amnt</th>\n",
       "      <th>funded_amnt_inv</th>\n",
       "      <th>term</th>\n",
       "      <th>int_rate</th>\n",
       "      <th>installment</th>\n",
       "      <th>grade</th>\n",
       "      <th>sub_grade</th>\n",
       "      <th>emp_title</th>\n",
       "      <th>emp_length</th>\n",
       "      <th>home_ownership</th>\n",
       "      <th>annual_inc</th>\n",
       "      <th>verification_status</th>\n",
       "      <th>issue_d</th>\n",
       "      <th>loan_status</th>\n",
       "      <th>pymnt_plan</th>\n",
       "      <th>url</th>\n",
       "      <th>desc</th>\n",
       "      <th>purpose</th>\n",
       "      <th>title</th>\n",
       "      <th>zip_code</th>\n",
       "      <th>addr_state</th>\n",
       "      <th>dti</th>\n",
       "      <th>delinq_2yrs</th>\n",
       "      <th>earliest_cr_line</th>\n",
       "      <th>inq_last_6mths</th>\n",
       "      <th>mths_since_last_delinq</th>\n",
       "      <th>mths_since_last_record</th>\n",
       "      <th>open_acc</th>\n",
       "      <th>pub_rec</th>\n",
       "      <th>revol_bal</th>\n",
       "      <th>revol_util</th>\n",
       "      <th>total_acc</th>\n",
       "      <th>initial_list_status</th>\n",
       "      <th>out_prncp</th>\n",
       "      <th>out_prncp_inv</th>\n",
       "      <th>total_pymnt</th>\n",
       "      <th>total_pymnt_inv</th>\n",
       "      <th>total_rec_prncp</th>\n",
       "      <th>total_rec_int</th>\n",
       "      <th>total_rec_late_fee</th>\n",
       "      <th>recoveries</th>\n",
       "      <th>collection_recovery_fee</th>\n",
       "      <th>last_pymnt_d</th>\n",
       "      <th>last_pymnt_amnt</th>\n",
       "      <th>next_pymnt_d</th>\n",
       "      <th>last_credit_pull_d</th>\n",
       "      <th>collections_12_mths_ex_med</th>\n",
       "      <th>...</th>\n",
       "      <th>open_il_12m</th>\n",
       "      <th>open_il_24m</th>\n",
       "      <th>mths_since_rcnt_il</th>\n",
       "      <th>total_bal_il</th>\n",
       "      <th>il_util</th>\n",
       "      <th>open_rv_12m</th>\n",
       "      <th>open_rv_24m</th>\n",
       "      <th>max_bal_bc</th>\n",
       "      <th>all_util</th>\n",
       "      <th>total_rev_hi_lim</th>\n",
       "      <th>inq_fi</th>\n",
       "      <th>total_cu_tl</th>\n",
       "      <th>inq_last_12m</th>\n",
       "      <th>acc_open_past_24mths</th>\n",
       "      <th>avg_cur_bal</th>\n",
       "      <th>bc_open_to_buy</th>\n",
       "      <th>bc_util</th>\n",
       "      <th>chargeoff_within_12_mths</th>\n",
       "      <th>delinq_amnt</th>\n",
       "      <th>mo_sin_old_il_acct</th>\n",
       "      <th>mo_sin_old_rev_tl_op</th>\n",
       "      <th>mo_sin_rcnt_rev_tl_op</th>\n",
       "      <th>mo_sin_rcnt_tl</th>\n",
       "      <th>mort_acc</th>\n",
       "      <th>mths_since_recent_bc</th>\n",
       "      <th>mths_since_recent_bc_dlq</th>\n",
       "      <th>mths_since_recent_inq</th>\n",
       "      <th>mths_since_recent_revol_delinq</th>\n",
       "      <th>num_accts_ever_120_pd</th>\n",
       "      <th>num_actv_bc_tl</th>\n",
       "      <th>num_actv_rev_tl</th>\n",
       "      <th>num_bc_sats</th>\n",
       "      <th>num_bc_tl</th>\n",
       "      <th>num_il_tl</th>\n",
       "      <th>num_op_rev_tl</th>\n",
       "      <th>num_rev_accts</th>\n",
       "      <th>num_rev_tl_bal_gt_0</th>\n",
       "      <th>num_sats</th>\n",
       "      <th>num_tl_120dpd_2m</th>\n",
       "      <th>num_tl_30dpd</th>\n",
       "      <th>num_tl_90g_dpd_24m</th>\n",
       "      <th>num_tl_op_past_12m</th>\n",
       "      <th>pct_tl_nvr_dlq</th>\n",
       "      <th>percent_bc_gt_75</th>\n",
       "      <th>pub_rec_bankruptcies</th>\n",
       "      <th>tax_liens</th>\n",
       "      <th>tot_hi_cred_lim</th>\n",
       "      <th>total_bal_ex_mort</th>\n",
       "      <th>total_bc_limit</th>\n",
       "      <th>total_il_high_credit_limit</th>\n",
       "    </tr>\n",
       "  </thead>\n",
       "  <tbody>\n",
       "    <tr>\n",
       "      <th>0</th>\n",
       "      <td>1077501</td>\n",
       "      <td>1296599</td>\n",
       "      <td>5000</td>\n",
       "      <td>5000</td>\n",
       "      <td>4975.0</td>\n",
       "      <td>36 months</td>\n",
       "      <td>10.65%</td>\n",
       "      <td>162.9</td>\n",
       "      <td>B</td>\n",
       "      <td>B2</td>\n",
       "      <td>NaN</td>\n",
       "      <td>10+ years</td>\n",
       "      <td>RENT</td>\n",
       "      <td>24000.0</td>\n",
       "      <td>Verified</td>\n",
       "      <td>Dec-11</td>\n",
       "      <td>Fully Paid</td>\n",
       "      <td>n</td>\n",
       "      <td>https://lendingclub.com/browse/loanDetail.acti...</td>\n",
       "      <td>Borrower added on 12/22/11 &gt; I need to upgra...</td>\n",
       "      <td>credit_card</td>\n",
       "      <td>Computer</td>\n",
       "      <td>860xx</td>\n",
       "      <td>AZ</td>\n",
       "      <td>27.6</td>\n",
       "      <td>0</td>\n",
       "      <td>Jan-85</td>\n",
       "      <td>1</td>\n",
       "      <td>nan</td>\n",
       "      <td>nan</td>\n",
       "      <td>3</td>\n",
       "      <td>0</td>\n",
       "      <td>13648</td>\n",
       "      <td>83.70%</td>\n",
       "      <td>9</td>\n",
       "      <td>f</td>\n",
       "      <td>0.0</td>\n",
       "      <td>0.0</td>\n",
       "      <td>5863.2</td>\n",
       "      <td>5833.8</td>\n",
       "      <td>5000.0</td>\n",
       "      <td>863.2</td>\n",
       "      <td>0.0</td>\n",
       "      <td>0.0</td>\n",
       "      <td>0.0</td>\n",
       "      <td>Jan-15</td>\n",
       "      <td>171.6</td>\n",
       "      <td>NaN</td>\n",
       "      <td>May-16</td>\n",
       "      <td>0.0</td>\n",
       "      <td>...</td>\n",
       "      <td>nan</td>\n",
       "      <td>nan</td>\n",
       "      <td>nan</td>\n",
       "      <td>nan</td>\n",
       "      <td>nan</td>\n",
       "      <td>nan</td>\n",
       "      <td>nan</td>\n",
       "      <td>nan</td>\n",
       "      <td>nan</td>\n",
       "      <td>nan</td>\n",
       "      <td>nan</td>\n",
       "      <td>nan</td>\n",
       "      <td>nan</td>\n",
       "      <td>nan</td>\n",
       "      <td>nan</td>\n",
       "      <td>nan</td>\n",
       "      <td>nan</td>\n",
       "      <td>0.0</td>\n",
       "      <td>0</td>\n",
       "      <td>nan</td>\n",
       "      <td>nan</td>\n",
       "      <td>nan</td>\n",
       "      <td>nan</td>\n",
       "      <td>nan</td>\n",
       "      <td>nan</td>\n",
       "      <td>nan</td>\n",
       "      <td>nan</td>\n",
       "      <td>nan</td>\n",
       "      <td>nan</td>\n",
       "      <td>nan</td>\n",
       "      <td>nan</td>\n",
       "      <td>nan</td>\n",
       "      <td>nan</td>\n",
       "      <td>nan</td>\n",
       "      <td>nan</td>\n",
       "      <td>nan</td>\n",
       "      <td>nan</td>\n",
       "      <td>nan</td>\n",
       "      <td>nan</td>\n",
       "      <td>nan</td>\n",
       "      <td>nan</td>\n",
       "      <td>nan</td>\n",
       "      <td>nan</td>\n",
       "      <td>nan</td>\n",
       "      <td>0.0</td>\n",
       "      <td>0.0</td>\n",
       "      <td>nan</td>\n",
       "      <td>nan</td>\n",
       "      <td>nan</td>\n",
       "      <td>nan</td>\n",
       "    </tr>\n",
       "    <tr>\n",
       "      <th>1</th>\n",
       "      <td>1077430</td>\n",
       "      <td>1314167</td>\n",
       "      <td>2500</td>\n",
       "      <td>2500</td>\n",
       "      <td>2500.0</td>\n",
       "      <td>60 months</td>\n",
       "      <td>15.27%</td>\n",
       "      <td>59.8</td>\n",
       "      <td>C</td>\n",
       "      <td>C4</td>\n",
       "      <td>Ryder</td>\n",
       "      <td>&lt; 1 year</td>\n",
       "      <td>RENT</td>\n",
       "      <td>30000.0</td>\n",
       "      <td>Source Verified</td>\n",
       "      <td>Dec-11</td>\n",
       "      <td>Charged Off</td>\n",
       "      <td>n</td>\n",
       "      <td>https://lendingclub.com/browse/loanDetail.acti...</td>\n",
       "      <td>Borrower added on 12/22/11 &gt; I plan to use t...</td>\n",
       "      <td>car</td>\n",
       "      <td>bike</td>\n",
       "      <td>309xx</td>\n",
       "      <td>GA</td>\n",
       "      <td>1.0</td>\n",
       "      <td>0</td>\n",
       "      <td>Apr-99</td>\n",
       "      <td>5</td>\n",
       "      <td>nan</td>\n",
       "      <td>nan</td>\n",
       "      <td>3</td>\n",
       "      <td>0</td>\n",
       "      <td>1687</td>\n",
       "      <td>9.40%</td>\n",
       "      <td>4</td>\n",
       "      <td>f</td>\n",
       "      <td>0.0</td>\n",
       "      <td>0.0</td>\n",
       "      <td>1008.7</td>\n",
       "      <td>1008.7</td>\n",
       "      <td>456.5</td>\n",
       "      <td>435.2</td>\n",
       "      <td>0.0</td>\n",
       "      <td>117.1</td>\n",
       "      <td>1.1</td>\n",
       "      <td>Apr-13</td>\n",
       "      <td>119.7</td>\n",
       "      <td>NaN</td>\n",
       "      <td>Sep-13</td>\n",
       "      <td>0.0</td>\n",
       "      <td>...</td>\n",
       "      <td>nan</td>\n",
       "      <td>nan</td>\n",
       "      <td>nan</td>\n",
       "      <td>nan</td>\n",
       "      <td>nan</td>\n",
       "      <td>nan</td>\n",
       "      <td>nan</td>\n",
       "      <td>nan</td>\n",
       "      <td>nan</td>\n",
       "      <td>nan</td>\n",
       "      <td>nan</td>\n",
       "      <td>nan</td>\n",
       "      <td>nan</td>\n",
       "      <td>nan</td>\n",
       "      <td>nan</td>\n",
       "      <td>nan</td>\n",
       "      <td>nan</td>\n",
       "      <td>0.0</td>\n",
       "      <td>0</td>\n",
       "      <td>nan</td>\n",
       "      <td>nan</td>\n",
       "      <td>nan</td>\n",
       "      <td>nan</td>\n",
       "      <td>nan</td>\n",
       "      <td>nan</td>\n",
       "      <td>nan</td>\n",
       "      <td>nan</td>\n",
       "      <td>nan</td>\n",
       "      <td>nan</td>\n",
       "      <td>nan</td>\n",
       "      <td>nan</td>\n",
       "      <td>nan</td>\n",
       "      <td>nan</td>\n",
       "      <td>nan</td>\n",
       "      <td>nan</td>\n",
       "      <td>nan</td>\n",
       "      <td>nan</td>\n",
       "      <td>nan</td>\n",
       "      <td>nan</td>\n",
       "      <td>nan</td>\n",
       "      <td>nan</td>\n",
       "      <td>nan</td>\n",
       "      <td>nan</td>\n",
       "      <td>nan</td>\n",
       "      <td>0.0</td>\n",
       "      <td>0.0</td>\n",
       "      <td>nan</td>\n",
       "      <td>nan</td>\n",
       "      <td>nan</td>\n",
       "      <td>nan</td>\n",
       "    </tr>\n",
       "    <tr>\n",
       "      <th>2</th>\n",
       "      <td>1077175</td>\n",
       "      <td>1313524</td>\n",
       "      <td>2400</td>\n",
       "      <td>2400</td>\n",
       "      <td>2400.0</td>\n",
       "      <td>36 months</td>\n",
       "      <td>15.96%</td>\n",
       "      <td>84.3</td>\n",
       "      <td>C</td>\n",
       "      <td>C5</td>\n",
       "      <td>NaN</td>\n",
       "      <td>10+ years</td>\n",
       "      <td>RENT</td>\n",
       "      <td>12252.0</td>\n",
       "      <td>Not Verified</td>\n",
       "      <td>Dec-11</td>\n",
       "      <td>Fully Paid</td>\n",
       "      <td>n</td>\n",
       "      <td>https://lendingclub.com/browse/loanDetail.acti...</td>\n",
       "      <td>NaN</td>\n",
       "      <td>small_business</td>\n",
       "      <td>real estate business</td>\n",
       "      <td>606xx</td>\n",
       "      <td>IL</td>\n",
       "      <td>8.7</td>\n",
       "      <td>0</td>\n",
       "      <td>Nov-01</td>\n",
       "      <td>2</td>\n",
       "      <td>nan</td>\n",
       "      <td>nan</td>\n",
       "      <td>2</td>\n",
       "      <td>0</td>\n",
       "      <td>2956</td>\n",
       "      <td>98.50%</td>\n",
       "      <td>10</td>\n",
       "      <td>f</td>\n",
       "      <td>0.0</td>\n",
       "      <td>0.0</td>\n",
       "      <td>3005.7</td>\n",
       "      <td>3005.7</td>\n",
       "      <td>2400.0</td>\n",
       "      <td>605.7</td>\n",
       "      <td>0.0</td>\n",
       "      <td>0.0</td>\n",
       "      <td>0.0</td>\n",
       "      <td>Jun-14</td>\n",
       "      <td>649.9</td>\n",
       "      <td>NaN</td>\n",
       "      <td>May-16</td>\n",
       "      <td>0.0</td>\n",
       "      <td>...</td>\n",
       "      <td>nan</td>\n",
       "      <td>nan</td>\n",
       "      <td>nan</td>\n",
       "      <td>nan</td>\n",
       "      <td>nan</td>\n",
       "      <td>nan</td>\n",
       "      <td>nan</td>\n",
       "      <td>nan</td>\n",
       "      <td>nan</td>\n",
       "      <td>nan</td>\n",
       "      <td>nan</td>\n",
       "      <td>nan</td>\n",
       "      <td>nan</td>\n",
       "      <td>nan</td>\n",
       "      <td>nan</td>\n",
       "      <td>nan</td>\n",
       "      <td>nan</td>\n",
       "      <td>0.0</td>\n",
       "      <td>0</td>\n",
       "      <td>nan</td>\n",
       "      <td>nan</td>\n",
       "      <td>nan</td>\n",
       "      <td>nan</td>\n",
       "      <td>nan</td>\n",
       "      <td>nan</td>\n",
       "      <td>nan</td>\n",
       "      <td>nan</td>\n",
       "      <td>nan</td>\n",
       "      <td>nan</td>\n",
       "      <td>nan</td>\n",
       "      <td>nan</td>\n",
       "      <td>nan</td>\n",
       "      <td>nan</td>\n",
       "      <td>nan</td>\n",
       "      <td>nan</td>\n",
       "      <td>nan</td>\n",
       "      <td>nan</td>\n",
       "      <td>nan</td>\n",
       "      <td>nan</td>\n",
       "      <td>nan</td>\n",
       "      <td>nan</td>\n",
       "      <td>nan</td>\n",
       "      <td>nan</td>\n",
       "      <td>nan</td>\n",
       "      <td>0.0</td>\n",
       "      <td>0.0</td>\n",
       "      <td>nan</td>\n",
       "      <td>nan</td>\n",
       "      <td>nan</td>\n",
       "      <td>nan</td>\n",
       "    </tr>\n",
       "    <tr>\n",
       "      <th>3</th>\n",
       "      <td>1076863</td>\n",
       "      <td>1277178</td>\n",
       "      <td>10000</td>\n",
       "      <td>10000</td>\n",
       "      <td>10000.0</td>\n",
       "      <td>36 months</td>\n",
       "      <td>13.49%</td>\n",
       "      <td>339.3</td>\n",
       "      <td>C</td>\n",
       "      <td>C1</td>\n",
       "      <td>AIR RESOURCES BOARD</td>\n",
       "      <td>10+ years</td>\n",
       "      <td>RENT</td>\n",
       "      <td>49200.0</td>\n",
       "      <td>Source Verified</td>\n",
       "      <td>Dec-11</td>\n",
       "      <td>Fully Paid</td>\n",
       "      <td>n</td>\n",
       "      <td>https://lendingclub.com/browse/loanDetail.acti...</td>\n",
       "      <td>Borrower added on 12/21/11 &gt; to pay for prop...</td>\n",
       "      <td>other</td>\n",
       "      <td>personel</td>\n",
       "      <td>917xx</td>\n",
       "      <td>CA</td>\n",
       "      <td>20.0</td>\n",
       "      <td>0</td>\n",
       "      <td>Feb-96</td>\n",
       "      <td>1</td>\n",
       "      <td>35.0</td>\n",
       "      <td>nan</td>\n",
       "      <td>10</td>\n",
       "      <td>0</td>\n",
       "      <td>5598</td>\n",
       "      <td>21%</td>\n",
       "      <td>37</td>\n",
       "      <td>f</td>\n",
       "      <td>0.0</td>\n",
       "      <td>0.0</td>\n",
       "      <td>12231.9</td>\n",
       "      <td>12231.9</td>\n",
       "      <td>10000.0</td>\n",
       "      <td>2214.9</td>\n",
       "      <td>17.0</td>\n",
       "      <td>0.0</td>\n",
       "      <td>0.0</td>\n",
       "      <td>Jan-15</td>\n",
       "      <td>357.5</td>\n",
       "      <td>NaN</td>\n",
       "      <td>Apr-16</td>\n",
       "      <td>0.0</td>\n",
       "      <td>...</td>\n",
       "      <td>nan</td>\n",
       "      <td>nan</td>\n",
       "      <td>nan</td>\n",
       "      <td>nan</td>\n",
       "      <td>nan</td>\n",
       "      <td>nan</td>\n",
       "      <td>nan</td>\n",
       "      <td>nan</td>\n",
       "      <td>nan</td>\n",
       "      <td>nan</td>\n",
       "      <td>nan</td>\n",
       "      <td>nan</td>\n",
       "      <td>nan</td>\n",
       "      <td>nan</td>\n",
       "      <td>nan</td>\n",
       "      <td>nan</td>\n",
       "      <td>nan</td>\n",
       "      <td>0.0</td>\n",
       "      <td>0</td>\n",
       "      <td>nan</td>\n",
       "      <td>nan</td>\n",
       "      <td>nan</td>\n",
       "      <td>nan</td>\n",
       "      <td>nan</td>\n",
       "      <td>nan</td>\n",
       "      <td>nan</td>\n",
       "      <td>nan</td>\n",
       "      <td>nan</td>\n",
       "      <td>nan</td>\n",
       "      <td>nan</td>\n",
       "      <td>nan</td>\n",
       "      <td>nan</td>\n",
       "      <td>nan</td>\n",
       "      <td>nan</td>\n",
       "      <td>nan</td>\n",
       "      <td>nan</td>\n",
       "      <td>nan</td>\n",
       "      <td>nan</td>\n",
       "      <td>nan</td>\n",
       "      <td>nan</td>\n",
       "      <td>nan</td>\n",
       "      <td>nan</td>\n",
       "      <td>nan</td>\n",
       "      <td>nan</td>\n",
       "      <td>0.0</td>\n",
       "      <td>0.0</td>\n",
       "      <td>nan</td>\n",
       "      <td>nan</td>\n",
       "      <td>nan</td>\n",
       "      <td>nan</td>\n",
       "    </tr>\n",
       "    <tr>\n",
       "      <th>4</th>\n",
       "      <td>1075358</td>\n",
       "      <td>1311748</td>\n",
       "      <td>3000</td>\n",
       "      <td>3000</td>\n",
       "      <td>3000.0</td>\n",
       "      <td>60 months</td>\n",
       "      <td>12.69%</td>\n",
       "      <td>67.8</td>\n",
       "      <td>B</td>\n",
       "      <td>B5</td>\n",
       "      <td>University Medical Group</td>\n",
       "      <td>1 year</td>\n",
       "      <td>RENT</td>\n",
       "      <td>80000.0</td>\n",
       "      <td>Source Verified</td>\n",
       "      <td>Dec-11</td>\n",
       "      <td>Current</td>\n",
       "      <td>n</td>\n",
       "      <td>https://lendingclub.com/browse/loanDetail.acti...</td>\n",
       "      <td>Borrower added on 12/21/11 &gt; I plan on combi...</td>\n",
       "      <td>other</td>\n",
       "      <td>Personal</td>\n",
       "      <td>972xx</td>\n",
       "      <td>OR</td>\n",
       "      <td>17.9</td>\n",
       "      <td>0</td>\n",
       "      <td>Jan-96</td>\n",
       "      <td>0</td>\n",
       "      <td>38.0</td>\n",
       "      <td>nan</td>\n",
       "      <td>15</td>\n",
       "      <td>0</td>\n",
       "      <td>27783</td>\n",
       "      <td>53.90%</td>\n",
       "      <td>38</td>\n",
       "      <td>f</td>\n",
       "      <td>524.1</td>\n",
       "      <td>524.1</td>\n",
       "      <td>3513.3</td>\n",
       "      <td>3513.3</td>\n",
       "      <td>2475.9</td>\n",
       "      <td>1037.4</td>\n",
       "      <td>0.0</td>\n",
       "      <td>0.0</td>\n",
       "      <td>0.0</td>\n",
       "      <td>May-16</td>\n",
       "      <td>67.8</td>\n",
       "      <td>Jun-16</td>\n",
       "      <td>May-16</td>\n",
       "      <td>0.0</td>\n",
       "      <td>...</td>\n",
       "      <td>nan</td>\n",
       "      <td>nan</td>\n",
       "      <td>nan</td>\n",
       "      <td>nan</td>\n",
       "      <td>nan</td>\n",
       "      <td>nan</td>\n",
       "      <td>nan</td>\n",
       "      <td>nan</td>\n",
       "      <td>nan</td>\n",
       "      <td>nan</td>\n",
       "      <td>nan</td>\n",
       "      <td>nan</td>\n",
       "      <td>nan</td>\n",
       "      <td>nan</td>\n",
       "      <td>nan</td>\n",
       "      <td>nan</td>\n",
       "      <td>nan</td>\n",
       "      <td>0.0</td>\n",
       "      <td>0</td>\n",
       "      <td>nan</td>\n",
       "      <td>nan</td>\n",
       "      <td>nan</td>\n",
       "      <td>nan</td>\n",
       "      <td>nan</td>\n",
       "      <td>nan</td>\n",
       "      <td>nan</td>\n",
       "      <td>nan</td>\n",
       "      <td>nan</td>\n",
       "      <td>nan</td>\n",
       "      <td>nan</td>\n",
       "      <td>nan</td>\n",
       "      <td>nan</td>\n",
       "      <td>nan</td>\n",
       "      <td>nan</td>\n",
       "      <td>nan</td>\n",
       "      <td>nan</td>\n",
       "      <td>nan</td>\n",
       "      <td>nan</td>\n",
       "      <td>nan</td>\n",
       "      <td>nan</td>\n",
       "      <td>nan</td>\n",
       "      <td>nan</td>\n",
       "      <td>nan</td>\n",
       "      <td>nan</td>\n",
       "      <td>0.0</td>\n",
       "      <td>0.0</td>\n",
       "      <td>nan</td>\n",
       "      <td>nan</td>\n",
       "      <td>nan</td>\n",
       "      <td>nan</td>\n",
       "    </tr>\n",
       "  </tbody>\n",
       "</table>\n",
       "<p>5 rows × 111 columns</p>\n",
       "</div>"
      ],
      "text/plain": [
       "        id  member_id  loan_amnt  funded_amnt  funded_amnt_inv        term int_rate  installment grade sub_grade                 emp_title emp_length home_ownership  annual_inc verification_status issue_d  loan_status pymnt_plan                                                url                                               desc         purpose                 title zip_code addr_state  dti  delinq_2yrs earliest_cr_line  inq_last_6mths  mths_since_last_delinq  mths_since_last_record  open_acc  pub_rec  revol_bal revol_util  total_acc initial_list_status  out_prncp  out_prncp_inv  total_pymnt  total_pymnt_inv  total_rec_prncp  total_rec_int  total_rec_late_fee  recoveries  collection_recovery_fee last_pymnt_d  last_pymnt_amnt next_pymnt_d last_credit_pull_d  collections_12_mths_ex_med  ...  open_il_12m  open_il_24m mths_since_rcnt_il  total_bal_il  il_util  open_rv_12m  open_rv_24m  max_bal_bc  all_util  total_rev_hi_lim  inq_fi  total_cu_tl  inq_last_12m  acc_open_past_24mths  \\\n",
       "0  1077501    1296599       5000         5000           4975.0   36 months   10.65%        162.9     B        B2                       NaN  10+ years           RENT     24000.0            Verified  Dec-11   Fully Paid          n  https://lendingclub.com/browse/loanDetail.acti...    Borrower added on 12/22/11 > I need to upgra...     credit_card              Computer    860xx         AZ 27.6            0           Jan-85               1                     nan                     nan         3        0      13648     83.70%          9                   f        0.0            0.0       5863.2           5833.8           5000.0          863.2                 0.0         0.0                      0.0       Jan-15            171.6          NaN             May-16                         0.0  ...          nan          nan                nan           nan      nan          nan          nan         nan       nan               nan     nan          nan           nan                   nan   \n",
       "1  1077430    1314167       2500         2500           2500.0   60 months   15.27%         59.8     C        C4                     Ryder   < 1 year           RENT     30000.0     Source Verified  Dec-11  Charged Off          n  https://lendingclub.com/browse/loanDetail.acti...    Borrower added on 12/22/11 > I plan to use t...             car                  bike    309xx         GA  1.0            0           Apr-99               5                     nan                     nan         3        0       1687      9.40%          4                   f        0.0            0.0       1008.7           1008.7            456.5          435.2                 0.0       117.1                      1.1       Apr-13            119.7          NaN             Sep-13                         0.0  ...          nan          nan                nan           nan      nan          nan          nan         nan       nan               nan     nan          nan           nan                   nan   \n",
       "2  1077175    1313524       2400         2400           2400.0   36 months   15.96%         84.3     C        C5                       NaN  10+ years           RENT     12252.0        Not Verified  Dec-11   Fully Paid          n  https://lendingclub.com/browse/loanDetail.acti...                                                NaN  small_business  real estate business    606xx         IL  8.7            0           Nov-01               2                     nan                     nan         2        0       2956     98.50%         10                   f        0.0            0.0       3005.7           3005.7           2400.0          605.7                 0.0         0.0                      0.0       Jun-14            649.9          NaN             May-16                         0.0  ...          nan          nan                nan           nan      nan          nan          nan         nan       nan               nan     nan          nan           nan                   nan   \n",
       "3  1076863    1277178      10000        10000          10000.0   36 months   13.49%        339.3     C        C1       AIR RESOURCES BOARD  10+ years           RENT     49200.0     Source Verified  Dec-11   Fully Paid          n  https://lendingclub.com/browse/loanDetail.acti...    Borrower added on 12/21/11 > to pay for prop...           other              personel    917xx         CA 20.0            0           Feb-96               1                    35.0                     nan        10        0       5598        21%         37                   f        0.0            0.0      12231.9          12231.9          10000.0         2214.9                17.0         0.0                      0.0       Jan-15            357.5          NaN             Apr-16                         0.0  ...          nan          nan                nan           nan      nan          nan          nan         nan       nan               nan     nan          nan           nan                   nan   \n",
       "4  1075358    1311748       3000         3000           3000.0   60 months   12.69%         67.8     B        B5  University Medical Group     1 year           RENT     80000.0     Source Verified  Dec-11      Current          n  https://lendingclub.com/browse/loanDetail.acti...    Borrower added on 12/21/11 > I plan on combi...           other              Personal    972xx         OR 17.9            0           Jan-96               0                    38.0                     nan        15        0      27783     53.90%         38                   f      524.1          524.1       3513.3           3513.3           2475.9         1037.4                 0.0         0.0                      0.0       May-16             67.8       Jun-16             May-16                         0.0  ...          nan          nan                nan           nan      nan          nan          nan         nan       nan               nan     nan          nan           nan                   nan   \n",
       "\n",
       "   avg_cur_bal  bc_open_to_buy  bc_util  chargeoff_within_12_mths  delinq_amnt  mo_sin_old_il_acct  mo_sin_old_rev_tl_op  mo_sin_rcnt_rev_tl_op  mo_sin_rcnt_tl  mort_acc  mths_since_recent_bc  mths_since_recent_bc_dlq  mths_since_recent_inq  mths_since_recent_revol_delinq  num_accts_ever_120_pd  num_actv_bc_tl  num_actv_rev_tl  num_bc_sats  num_bc_tl  num_il_tl  num_op_rev_tl  num_rev_accts  num_rev_tl_bal_gt_0  num_sats  num_tl_120dpd_2m  num_tl_30dpd  num_tl_90g_dpd_24m  num_tl_op_past_12m  pct_tl_nvr_dlq  percent_bc_gt_75  pub_rec_bankruptcies  tax_liens  tot_hi_cred_lim  total_bal_ex_mort  total_bc_limit  total_il_high_credit_limit  \n",
       "0          nan             nan      nan                       0.0            0                 nan                   nan                    nan             nan       nan                   nan                       nan                    nan                             nan                    nan             nan              nan          nan        nan        nan            nan            nan                  nan       nan               nan           nan                 nan                 nan             nan               nan                   0.0        0.0              nan                nan             nan                         nan  \n",
       "1          nan             nan      nan                       0.0            0                 nan                   nan                    nan             nan       nan                   nan                       nan                    nan                             nan                    nan             nan              nan          nan        nan        nan            nan            nan                  nan       nan               nan           nan                 nan                 nan             nan               nan                   0.0        0.0              nan                nan             nan                         nan  \n",
       "2          nan             nan      nan                       0.0            0                 nan                   nan                    nan             nan       nan                   nan                       nan                    nan                             nan                    nan             nan              nan          nan        nan        nan            nan            nan                  nan       nan               nan           nan                 nan                 nan             nan               nan                   0.0        0.0              nan                nan             nan                         nan  \n",
       "3          nan             nan      nan                       0.0            0                 nan                   nan                    nan             nan       nan                   nan                       nan                    nan                             nan                    nan             nan              nan          nan        nan        nan            nan            nan                  nan       nan               nan           nan                 nan                 nan             nan               nan                   0.0        0.0              nan                nan             nan                         nan  \n",
       "4          nan             nan      nan                       0.0            0                 nan                   nan                    nan             nan       nan                   nan                       nan                    nan                             nan                    nan             nan              nan          nan        nan        nan            nan            nan                  nan       nan               nan           nan                 nan                 nan             nan               nan                   0.0        0.0              nan                nan             nan                         nan  \n",
       "\n",
       "[5 rows x 111 columns]"
      ]
     },
     "execution_count": 121,
     "metadata": {},
     "output_type": "execute_result"
    }
   ],
   "source": [
    "loan.head()"
   ]
  },
  {
   "cell_type": "markdown",
   "metadata": {},
   "source": [
    "loan has 39717 entries, some values for few columns are missing"
   ]
  },
  {
   "cell_type": "code",
   "execution_count": 122,
   "metadata": {},
   "outputs": [
    {
     "name": "stdout",
     "output_type": "stream",
     "text": [
      "<class 'pandas.core.frame.DataFrame'>\n",
      "RangeIndex: 39717 entries, 0 to 39716\n",
      "Columns: 111 entries, id to total_il_high_credit_limit\n",
      "dtypes: float64(74), int64(13), object(24)\n",
      "memory usage: 33.6+ MB\n",
      "None \n",
      "\n",
      "(39717, 111)\n"
     ]
    }
   ],
   "source": [
    "# inspect the structure etc.\n",
    "print(loan.info(), \"\\n\")\n",
    "print(loan.shape)"
   ]
  },
  {
   "cell_type": "code",
   "execution_count": 123,
   "metadata": {},
   "outputs": [
    {
     "name": "stdout",
     "output_type": "stream",
     "text": [
      "<class 'pandas.core.frame.DataFrame'>\n",
      "RangeIndex: 39717 entries, 0 to 39716\n",
      "Data columns (total 111 columns):\n",
      " #   Column                          Dtype  \n",
      "---  ------                          -----  \n",
      " 0   id                              int64  \n",
      " 1   member_id                       int64  \n",
      " 2   loan_amnt                       int64  \n",
      " 3   funded_amnt                     int64  \n",
      " 4   funded_amnt_inv                 float64\n",
      " 5   term                            object \n",
      " 6   int_rate                        object \n",
      " 7   installment                     float64\n",
      " 8   grade                           object \n",
      " 9   sub_grade                       object \n",
      " 10  emp_title                       object \n",
      " 11  emp_length                      object \n",
      " 12  home_ownership                  object \n",
      " 13  annual_inc                      float64\n",
      " 14  verification_status             object \n",
      " 15  issue_d                         object \n",
      " 16  loan_status                     object \n",
      " 17  pymnt_plan                      object \n",
      " 18  url                             object \n",
      " 19  desc                            object \n",
      " 20  purpose                         object \n",
      " 21  title                           object \n",
      " 22  zip_code                        object \n",
      " 23  addr_state                      object \n",
      " 24  dti                             float64\n",
      " 25  delinq_2yrs                     int64  \n",
      " 26  earliest_cr_line                object \n",
      " 27  inq_last_6mths                  int64  \n",
      " 28  mths_since_last_delinq          float64\n",
      " 29  mths_since_last_record          float64\n",
      " 30  open_acc                        int64  \n",
      " 31  pub_rec                         int64  \n",
      " 32  revol_bal                       int64  \n",
      " 33  revol_util                      object \n",
      " 34  total_acc                       int64  \n",
      " 35  initial_list_status             object \n",
      " 36  out_prncp                       float64\n",
      " 37  out_prncp_inv                   float64\n",
      " 38  total_pymnt                     float64\n",
      " 39  total_pymnt_inv                 float64\n",
      " 40  total_rec_prncp                 float64\n",
      " 41  total_rec_int                   float64\n",
      " 42  total_rec_late_fee              float64\n",
      " 43  recoveries                      float64\n",
      " 44  collection_recovery_fee         float64\n",
      " 45  last_pymnt_d                    object \n",
      " 46  last_pymnt_amnt                 float64\n",
      " 47  next_pymnt_d                    object \n",
      " 48  last_credit_pull_d              object \n",
      " 49  collections_12_mths_ex_med      float64\n",
      " 50  mths_since_last_major_derog     float64\n",
      " 51  policy_code                     int64  \n",
      " 52  application_type                object \n",
      " 53  annual_inc_joint                float64\n",
      " 54  dti_joint                       float64\n",
      " 55  verification_status_joint       float64\n",
      " 56  acc_now_delinq                  int64  \n",
      " 57  tot_coll_amt                    float64\n",
      " 58  tot_cur_bal                     float64\n",
      " 59  open_acc_6m                     float64\n",
      " 60  open_il_6m                      float64\n",
      " 61  open_il_12m                     float64\n",
      " 62  open_il_24m                     float64\n",
      " 63  mths_since_rcnt_il              float64\n",
      " 64  total_bal_il                    float64\n",
      " 65  il_util                         float64\n",
      " 66  open_rv_12m                     float64\n",
      " 67  open_rv_24m                     float64\n",
      " 68  max_bal_bc                      float64\n",
      " 69  all_util                        float64\n",
      " 70  total_rev_hi_lim                float64\n",
      " 71  inq_fi                          float64\n",
      " 72  total_cu_tl                     float64\n",
      " 73  inq_last_12m                    float64\n",
      " 74  acc_open_past_24mths            float64\n",
      " 75  avg_cur_bal                     float64\n",
      " 76  bc_open_to_buy                  float64\n",
      " 77  bc_util                         float64\n",
      " 78  chargeoff_within_12_mths        float64\n",
      " 79  delinq_amnt                     int64  \n",
      " 80  mo_sin_old_il_acct              float64\n",
      " 81  mo_sin_old_rev_tl_op            float64\n",
      " 82  mo_sin_rcnt_rev_tl_op           float64\n",
      " 83  mo_sin_rcnt_tl                  float64\n",
      " 84  mort_acc                        float64\n",
      " 85  mths_since_recent_bc            float64\n",
      " 86  mths_since_recent_bc_dlq        float64\n",
      " 87  mths_since_recent_inq           float64\n",
      " 88  mths_since_recent_revol_delinq  float64\n",
      " 89  num_accts_ever_120_pd           float64\n",
      " 90  num_actv_bc_tl                  float64\n",
      " 91  num_actv_rev_tl                 float64\n",
      " 92  num_bc_sats                     float64\n",
      " 93  num_bc_tl                       float64\n",
      " 94  num_il_tl                       float64\n",
      " 95  num_op_rev_tl                   float64\n",
      " 96  num_rev_accts                   float64\n",
      " 97  num_rev_tl_bal_gt_0             float64\n",
      " 98  num_sats                        float64\n",
      " 99  num_tl_120dpd_2m                float64\n",
      " 100 num_tl_30dpd                    float64\n",
      " 101 num_tl_90g_dpd_24m              float64\n",
      " 102 num_tl_op_past_12m              float64\n",
      " 103 pct_tl_nvr_dlq                  float64\n",
      " 104 percent_bc_gt_75                float64\n",
      " 105 pub_rec_bankruptcies            float64\n",
      " 106 tax_liens                       float64\n",
      " 107 tot_hi_cred_lim                 float64\n",
      " 108 total_bal_ex_mort               float64\n",
      " 109 total_bc_limit                  float64\n",
      " 110 total_il_high_credit_limit      float64\n",
      "dtypes: float64(74), int64(13), object(24)\n",
      "memory usage: 33.6+ MB\n"
     ]
    }
   ],
   "source": [
    "loan.info(verbose=True)"
   ]
  },
  {
   "cell_type": "markdown",
   "metadata": {},
   "source": [
    "Format following Datatype for columns \n",
    "- int_rate is in string format, converting it to float and striping out '%'\n",
    "- term is in string format with literal 'months' string, we understood the data in term is in number of months. So lets convert it to int format"
   ]
  },
  {
   "cell_type": "code",
   "execution_count": 124,
   "metadata": {},
   "outputs": [
    {
     "data": {
      "text/plain": [
       "11.0    956\n",
       "13.5    826\n",
       "11.5    825\n",
       "7.5     787\n",
       "7.9     725\n",
       "       ... \n",
       "17.5      1\n",
       "17.4      1\n",
       "20.5      1\n",
       "24.6      1\n",
       "17.3      1\n",
       "Name: int_rate, Length: 371, dtype: int64"
      ]
     },
     "execution_count": 124,
     "metadata": {},
     "output_type": "execute_result"
    }
   ],
   "source": [
    "loan.int_rate = loan.int_rate.apply(lambda x:float(x.replace('%','')))\n",
    "loan.int_rate.value_counts()"
   ]
  },
  {
   "cell_type": "code",
   "execution_count": 125,
   "metadata": {},
   "outputs": [
    {
     "data": {
      "text/plain": [
       "count   39717.0\n",
       "mean       42.4\n",
       "std        10.6\n",
       "min        36.0\n",
       "25%        36.0\n",
       "50%        36.0\n",
       "75%        60.0\n",
       "max        60.0\n",
       "Name: term, dtype: float64"
      ]
     },
     "execution_count": 125,
     "metadata": {},
     "output_type": "execute_result"
    }
   ],
   "source": [
    "loan.term = loan.term.apply(lambda x:int(x.replace('months','').strip()))\n",
    "loan.term.describe()"
   ]
  },
  {
   "cell_type": "code",
   "execution_count": null,
   "metadata": {},
   "outputs": [],
   "source": []
  },
  {
   "cell_type": "markdown",
   "metadata": {},
   "source": [
    "\n",
    "# Part 1: Data Cleaning"
   ]
  },
  {
   "cell_type": "markdown",
   "metadata": {},
   "source": [
    "employee_length is in string format as 10+ years <1, so it would be better to convert this to integer type which\n",
    "will help to perform quantitative analysis\n"
   ]
  },
  {
   "cell_type": "code",
   "execution_count": 126,
   "metadata": {},
   "outputs": [
    {
     "data": {
      "text/plain": [
       "1075"
      ]
     },
     "execution_count": 126,
     "metadata": {},
     "output_type": "execute_result"
    }
   ],
   "source": [
    "# Validating null_values\n",
    "\n",
    "loan.emp_length.isnull().sum()"
   ]
  },
  {
   "cell_type": "code",
   "execution_count": 127,
   "metadata": {},
   "outputs": [],
   "source": [
    "# we just have 2% value as missing value, so lets drop those rows, and then convert the column to int.\n",
    "\n",
    "loan = loan[~loan.emp_length.isnull()]\n",
    "loan.emp_length.isnull().sum()\n",
    "loan.emp_length = loan.emp_length.apply(lambda x:int(re.sub(r\"<?>?[a-z]?\\+?:?\", \"\", str(x)).strip()))"
   ]
  },
  {
   "cell_type": "markdown",
   "metadata": {},
   "source": [
    "# 2. Handling Missing Values for dataframe.\n",
    "   summing up the missing values (column-wise) thooughot the dataframe.\n"
   ]
  },
  {
   "cell_type": "code",
   "execution_count": 128,
   "metadata": {},
   "outputs": [
    {
     "data": {
      "text/plain": [
       "id                                 0.0\n",
       "member_id                          0.0\n",
       "loan_amnt                          0.0\n",
       "funded_amnt                        0.0\n",
       "funded_amnt_inv                    0.0\n",
       "term                               0.0\n",
       "int_rate                           0.0\n",
       "installment                        0.0\n",
       "grade                              0.0\n",
       "sub_grade                          0.0\n",
       "emp_title                          3.7\n",
       "emp_length                         0.0\n",
       "home_ownership                     0.0\n",
       "annual_inc                         0.0\n",
       "verification_status                0.0\n",
       "issue_d                            0.0\n",
       "loan_status                        0.0\n",
       "pymnt_plan                         0.0\n",
       "url                                0.0\n",
       "desc                              32.3\n",
       "purpose                            0.0\n",
       "title                              0.0\n",
       "zip_code                           0.0\n",
       "addr_state                         0.0\n",
       "dti                                0.0\n",
       "delinq_2yrs                        0.0\n",
       "earliest_cr_line                   0.0\n",
       "inq_last_6mths                     0.0\n",
       "mths_since_last_delinq            64.6\n",
       "mths_since_last_record            93.1\n",
       "open_acc                           0.0\n",
       "pub_rec                            0.0\n",
       "revol_bal                          0.0\n",
       "revol_util                         0.1\n",
       "total_acc                          0.0\n",
       "initial_list_status                0.0\n",
       "out_prncp                          0.0\n",
       "out_prncp_inv                      0.0\n",
       "total_pymnt                        0.0\n",
       "total_pymnt_inv                    0.0\n",
       "total_rec_prncp                    0.0\n",
       "total_rec_int                      0.0\n",
       "total_rec_late_fee                 0.0\n",
       "recoveries                         0.0\n",
       "collection_recovery_fee            0.0\n",
       "last_pymnt_d                       0.2\n",
       "last_pymnt_amnt                    0.0\n",
       "next_pymnt_d                      97.2\n",
       "last_credit_pull_d                 0.0\n",
       "collections_12_mths_ex_med         0.1\n",
       "mths_since_last_major_derog      100.0\n",
       "policy_code                        0.0\n",
       "application_type                   0.0\n",
       "annual_inc_joint                 100.0\n",
       "dti_joint                        100.0\n",
       "verification_status_joint        100.0\n",
       "acc_now_delinq                     0.0\n",
       "tot_coll_amt                     100.0\n",
       "tot_cur_bal                      100.0\n",
       "open_acc_6m                      100.0\n",
       "open_il_6m                       100.0\n",
       "open_il_12m                      100.0\n",
       "open_il_24m                      100.0\n",
       "mths_since_rcnt_il               100.0\n",
       "total_bal_il                     100.0\n",
       "il_util                          100.0\n",
       "open_rv_12m                      100.0\n",
       "open_rv_24m                      100.0\n",
       "max_bal_bc                       100.0\n",
       "all_util                         100.0\n",
       "total_rev_hi_lim                 100.0\n",
       "inq_fi                           100.0\n",
       "total_cu_tl                      100.0\n",
       "inq_last_12m                     100.0\n",
       "acc_open_past_24mths             100.0\n",
       "avg_cur_bal                      100.0\n",
       "bc_open_to_buy                   100.0\n",
       "bc_util                          100.0\n",
       "chargeoff_within_12_mths           0.1\n",
       "delinq_amnt                        0.0\n",
       "mo_sin_old_il_acct               100.0\n",
       "mo_sin_old_rev_tl_op             100.0\n",
       "mo_sin_rcnt_rev_tl_op            100.0\n",
       "mo_sin_rcnt_tl                   100.0\n",
       "mort_acc                         100.0\n",
       "mths_since_recent_bc             100.0\n",
       "mths_since_recent_bc_dlq         100.0\n",
       "mths_since_recent_inq            100.0\n",
       "mths_since_recent_revol_delinq   100.0\n",
       "num_accts_ever_120_pd            100.0\n",
       "num_actv_bc_tl                   100.0\n",
       "num_actv_rev_tl                  100.0\n",
       "num_bc_sats                      100.0\n",
       "num_bc_tl                        100.0\n",
       "num_il_tl                        100.0\n",
       "num_op_rev_tl                    100.0\n",
       "num_rev_accts                    100.0\n",
       "num_rev_tl_bal_gt_0              100.0\n",
       "num_sats                         100.0\n",
       "num_tl_120dpd_2m                 100.0\n",
       "num_tl_30dpd                     100.0\n",
       "num_tl_90g_dpd_24m               100.0\n",
       "num_tl_op_past_12m               100.0\n",
       "pct_tl_nvr_dlq                   100.0\n",
       "percent_bc_gt_75                 100.0\n",
       "pub_rec_bankruptcies               1.8\n",
       "tax_liens                          0.1\n",
       "tot_hi_cred_lim                  100.0\n",
       "total_bal_ex_mort                100.0\n",
       "total_bc_limit                   100.0\n",
       "total_il_high_credit_limit       100.0\n",
       "dtype: float64"
      ]
     },
     "execution_count": 128,
     "metadata": {},
     "output_type": "execute_result"
    }
   ],
   "source": [
    "pd.set_option(\"max_rows\", None)\n",
    "round(100*(loan.isnull().sum()/len(loan.index)), 2)"
   ]
  },
  {
   "cell_type": "markdown",
   "metadata": {},
   "source": [
    "Clearly, there are few columns with 90% and 100% missing values. Also, for the business objective these columns will be of no use with missing data.\n",
    "\n",
    "loan dataset shape (39717, 111)\n",
    "\n",
    "Thus, let's drop these columns."
   ]
  },
  {
   "cell_type": "code",
   "execution_count": 129,
   "metadata": {},
   "outputs": [
    {
     "data": {
      "text/plain": [
       "(38642, 57)"
      ]
     },
     "execution_count": 129,
     "metadata": {},
     "output_type": "execute_result"
    }
   ],
   "source": [
    "# Drop columns which has 100% missing values\n",
    "\n",
    "loan = loan.dropna(axis='columns',how='all')\n",
    "loan.shape"
   ]
  },
  {
   "cell_type": "markdown",
   "metadata": {},
   "source": [
    "Here we can observe that the total number of columns in the dataset is reduced to 57 from 111\n",
    "\n",
    "Clearly, the column mths_since_last_record, mths_since_last_delinq and next_pymnt_d  (with about 64% and 90%> missing values). Also, for the business objectives given, the columns desc,url, zip_code, addr_state, emp_title  need not be used.\n",
    "\n",
    "- policy_code : same policy code for all \n",
    "\n",
    "Thus, let's drop these columns"
   ]
  },
  {
   "cell_type": "code",
   "execution_count": 130,
   "metadata": {},
   "outputs": [
    {
     "data": {
      "text/html": [
       "<div>\n",
       "<style scoped>\n",
       "    .dataframe tbody tr th:only-of-type {\n",
       "        vertical-align: middle;\n",
       "    }\n",
       "\n",
       "    .dataframe tbody tr th {\n",
       "        vertical-align: top;\n",
       "    }\n",
       "\n",
       "    .dataframe thead th {\n",
       "        text-align: right;\n",
       "    }\n",
       "</style>\n",
       "<table border=\"1\" class=\"dataframe\">\n",
       "  <thead>\n",
       "    <tr style=\"text-align: right;\">\n",
       "      <th></th>\n",
       "      <th>id</th>\n",
       "      <th>member_id</th>\n",
       "      <th>loan_amnt</th>\n",
       "      <th>funded_amnt</th>\n",
       "      <th>funded_amnt_inv</th>\n",
       "      <th>term</th>\n",
       "      <th>int_rate</th>\n",
       "      <th>installment</th>\n",
       "      <th>grade</th>\n",
       "      <th>sub_grade</th>\n",
       "      <th>emp_length</th>\n",
       "      <th>home_ownership</th>\n",
       "      <th>annual_inc</th>\n",
       "      <th>verification_status</th>\n",
       "      <th>issue_d</th>\n",
       "      <th>loan_status</th>\n",
       "      <th>purpose</th>\n",
       "      <th>title</th>\n",
       "      <th>dti</th>\n",
       "      <th>delinq_2yrs</th>\n",
       "      <th>earliest_cr_line</th>\n",
       "      <th>inq_last_6mths</th>\n",
       "      <th>open_acc</th>\n",
       "      <th>pub_rec</th>\n",
       "      <th>revol_bal</th>\n",
       "      <th>revol_util</th>\n",
       "      <th>total_acc</th>\n",
       "      <th>initial_list_status</th>\n",
       "      <th>out_prncp</th>\n",
       "      <th>out_prncp_inv</th>\n",
       "      <th>total_pymnt</th>\n",
       "      <th>total_pymnt_inv</th>\n",
       "      <th>total_rec_prncp</th>\n",
       "      <th>total_rec_int</th>\n",
       "      <th>total_rec_late_fee</th>\n",
       "      <th>recoveries</th>\n",
       "      <th>collection_recovery_fee</th>\n",
       "      <th>last_pymnt_d</th>\n",
       "      <th>last_pymnt_amnt</th>\n",
       "      <th>last_credit_pull_d</th>\n",
       "      <th>collections_12_mths_ex_med</th>\n",
       "      <th>policy_code</th>\n",
       "      <th>application_type</th>\n",
       "      <th>acc_now_delinq</th>\n",
       "      <th>chargeoff_within_12_mths</th>\n",
       "      <th>delinq_amnt</th>\n",
       "      <th>pub_rec_bankruptcies</th>\n",
       "      <th>tax_liens</th>\n",
       "    </tr>\n",
       "  </thead>\n",
       "  <tbody>\n",
       "    <tr>\n",
       "      <th>0</th>\n",
       "      <td>1077501</td>\n",
       "      <td>1296599</td>\n",
       "      <td>5000</td>\n",
       "      <td>5000</td>\n",
       "      <td>4975.0</td>\n",
       "      <td>36</td>\n",
       "      <td>10.7</td>\n",
       "      <td>162.9</td>\n",
       "      <td>B</td>\n",
       "      <td>B2</td>\n",
       "      <td>10</td>\n",
       "      <td>RENT</td>\n",
       "      <td>24000.0</td>\n",
       "      <td>Verified</td>\n",
       "      <td>Dec-11</td>\n",
       "      <td>Fully Paid</td>\n",
       "      <td>credit_card</td>\n",
       "      <td>Computer</td>\n",
       "      <td>27.6</td>\n",
       "      <td>0</td>\n",
       "      <td>Jan-85</td>\n",
       "      <td>1</td>\n",
       "      <td>3</td>\n",
       "      <td>0</td>\n",
       "      <td>13648</td>\n",
       "      <td>83.70%</td>\n",
       "      <td>9</td>\n",
       "      <td>f</td>\n",
       "      <td>0.0</td>\n",
       "      <td>0.0</td>\n",
       "      <td>5863.2</td>\n",
       "      <td>5833.8</td>\n",
       "      <td>5000.0</td>\n",
       "      <td>863.2</td>\n",
       "      <td>0.0</td>\n",
       "      <td>0.0</td>\n",
       "      <td>0.0</td>\n",
       "      <td>Jan-15</td>\n",
       "      <td>171.6</td>\n",
       "      <td>May-16</td>\n",
       "      <td>0.0</td>\n",
       "      <td>1</td>\n",
       "      <td>INDIVIDUAL</td>\n",
       "      <td>0</td>\n",
       "      <td>0.0</td>\n",
       "      <td>0</td>\n",
       "      <td>0.0</td>\n",
       "      <td>0.0</td>\n",
       "    </tr>\n",
       "    <tr>\n",
       "      <th>1</th>\n",
       "      <td>1077430</td>\n",
       "      <td>1314167</td>\n",
       "      <td>2500</td>\n",
       "      <td>2500</td>\n",
       "      <td>2500.0</td>\n",
       "      <td>60</td>\n",
       "      <td>15.3</td>\n",
       "      <td>59.8</td>\n",
       "      <td>C</td>\n",
       "      <td>C4</td>\n",
       "      <td>1</td>\n",
       "      <td>RENT</td>\n",
       "      <td>30000.0</td>\n",
       "      <td>Source Verified</td>\n",
       "      <td>Dec-11</td>\n",
       "      <td>Charged Off</td>\n",
       "      <td>car</td>\n",
       "      <td>bike</td>\n",
       "      <td>1.0</td>\n",
       "      <td>0</td>\n",
       "      <td>Apr-99</td>\n",
       "      <td>5</td>\n",
       "      <td>3</td>\n",
       "      <td>0</td>\n",
       "      <td>1687</td>\n",
       "      <td>9.40%</td>\n",
       "      <td>4</td>\n",
       "      <td>f</td>\n",
       "      <td>0.0</td>\n",
       "      <td>0.0</td>\n",
       "      <td>1008.7</td>\n",
       "      <td>1008.7</td>\n",
       "      <td>456.5</td>\n",
       "      <td>435.2</td>\n",
       "      <td>0.0</td>\n",
       "      <td>117.1</td>\n",
       "      <td>1.1</td>\n",
       "      <td>Apr-13</td>\n",
       "      <td>119.7</td>\n",
       "      <td>Sep-13</td>\n",
       "      <td>0.0</td>\n",
       "      <td>1</td>\n",
       "      <td>INDIVIDUAL</td>\n",
       "      <td>0</td>\n",
       "      <td>0.0</td>\n",
       "      <td>0</td>\n",
       "      <td>0.0</td>\n",
       "      <td>0.0</td>\n",
       "    </tr>\n",
       "    <tr>\n",
       "      <th>2</th>\n",
       "      <td>1077175</td>\n",
       "      <td>1313524</td>\n",
       "      <td>2400</td>\n",
       "      <td>2400</td>\n",
       "      <td>2400.0</td>\n",
       "      <td>36</td>\n",
       "      <td>16.0</td>\n",
       "      <td>84.3</td>\n",
       "      <td>C</td>\n",
       "      <td>C5</td>\n",
       "      <td>10</td>\n",
       "      <td>RENT</td>\n",
       "      <td>12252.0</td>\n",
       "      <td>Not Verified</td>\n",
       "      <td>Dec-11</td>\n",
       "      <td>Fully Paid</td>\n",
       "      <td>small_business</td>\n",
       "      <td>real estate business</td>\n",
       "      <td>8.7</td>\n",
       "      <td>0</td>\n",
       "      <td>Nov-01</td>\n",
       "      <td>2</td>\n",
       "      <td>2</td>\n",
       "      <td>0</td>\n",
       "      <td>2956</td>\n",
       "      <td>98.50%</td>\n",
       "      <td>10</td>\n",
       "      <td>f</td>\n",
       "      <td>0.0</td>\n",
       "      <td>0.0</td>\n",
       "      <td>3005.7</td>\n",
       "      <td>3005.7</td>\n",
       "      <td>2400.0</td>\n",
       "      <td>605.7</td>\n",
       "      <td>0.0</td>\n",
       "      <td>0.0</td>\n",
       "      <td>0.0</td>\n",
       "      <td>Jun-14</td>\n",
       "      <td>649.9</td>\n",
       "      <td>May-16</td>\n",
       "      <td>0.0</td>\n",
       "      <td>1</td>\n",
       "      <td>INDIVIDUAL</td>\n",
       "      <td>0</td>\n",
       "      <td>0.0</td>\n",
       "      <td>0</td>\n",
       "      <td>0.0</td>\n",
       "      <td>0.0</td>\n",
       "    </tr>\n",
       "    <tr>\n",
       "      <th>3</th>\n",
       "      <td>1076863</td>\n",
       "      <td>1277178</td>\n",
       "      <td>10000</td>\n",
       "      <td>10000</td>\n",
       "      <td>10000.0</td>\n",
       "      <td>36</td>\n",
       "      <td>13.5</td>\n",
       "      <td>339.3</td>\n",
       "      <td>C</td>\n",
       "      <td>C1</td>\n",
       "      <td>10</td>\n",
       "      <td>RENT</td>\n",
       "      <td>49200.0</td>\n",
       "      <td>Source Verified</td>\n",
       "      <td>Dec-11</td>\n",
       "      <td>Fully Paid</td>\n",
       "      <td>other</td>\n",
       "      <td>personel</td>\n",
       "      <td>20.0</td>\n",
       "      <td>0</td>\n",
       "      <td>Feb-96</td>\n",
       "      <td>1</td>\n",
       "      <td>10</td>\n",
       "      <td>0</td>\n",
       "      <td>5598</td>\n",
       "      <td>21%</td>\n",
       "      <td>37</td>\n",
       "      <td>f</td>\n",
       "      <td>0.0</td>\n",
       "      <td>0.0</td>\n",
       "      <td>12231.9</td>\n",
       "      <td>12231.9</td>\n",
       "      <td>10000.0</td>\n",
       "      <td>2214.9</td>\n",
       "      <td>17.0</td>\n",
       "      <td>0.0</td>\n",
       "      <td>0.0</td>\n",
       "      <td>Jan-15</td>\n",
       "      <td>357.5</td>\n",
       "      <td>Apr-16</td>\n",
       "      <td>0.0</td>\n",
       "      <td>1</td>\n",
       "      <td>INDIVIDUAL</td>\n",
       "      <td>0</td>\n",
       "      <td>0.0</td>\n",
       "      <td>0</td>\n",
       "      <td>0.0</td>\n",
       "      <td>0.0</td>\n",
       "    </tr>\n",
       "    <tr>\n",
       "      <th>4</th>\n",
       "      <td>1075358</td>\n",
       "      <td>1311748</td>\n",
       "      <td>3000</td>\n",
       "      <td>3000</td>\n",
       "      <td>3000.0</td>\n",
       "      <td>60</td>\n",
       "      <td>12.7</td>\n",
       "      <td>67.8</td>\n",
       "      <td>B</td>\n",
       "      <td>B5</td>\n",
       "      <td>1</td>\n",
       "      <td>RENT</td>\n",
       "      <td>80000.0</td>\n",
       "      <td>Source Verified</td>\n",
       "      <td>Dec-11</td>\n",
       "      <td>Current</td>\n",
       "      <td>other</td>\n",
       "      <td>Personal</td>\n",
       "      <td>17.9</td>\n",
       "      <td>0</td>\n",
       "      <td>Jan-96</td>\n",
       "      <td>0</td>\n",
       "      <td>15</td>\n",
       "      <td>0</td>\n",
       "      <td>27783</td>\n",
       "      <td>53.90%</td>\n",
       "      <td>38</td>\n",
       "      <td>f</td>\n",
       "      <td>524.1</td>\n",
       "      <td>524.1</td>\n",
       "      <td>3513.3</td>\n",
       "      <td>3513.3</td>\n",
       "      <td>2475.9</td>\n",
       "      <td>1037.4</td>\n",
       "      <td>0.0</td>\n",
       "      <td>0.0</td>\n",
       "      <td>0.0</td>\n",
       "      <td>May-16</td>\n",
       "      <td>67.8</td>\n",
       "      <td>May-16</td>\n",
       "      <td>0.0</td>\n",
       "      <td>1</td>\n",
       "      <td>INDIVIDUAL</td>\n",
       "      <td>0</td>\n",
       "      <td>0.0</td>\n",
       "      <td>0</td>\n",
       "      <td>0.0</td>\n",
       "      <td>0.0</td>\n",
       "    </tr>\n",
       "  </tbody>\n",
       "</table>\n",
       "</div>"
      ],
      "text/plain": [
       "        id  member_id  loan_amnt  funded_amnt  funded_amnt_inv  term  int_rate  installment grade sub_grade  emp_length home_ownership  annual_inc verification_status issue_d  loan_status         purpose                 title  dti  delinq_2yrs earliest_cr_line  inq_last_6mths  open_acc  pub_rec  revol_bal revol_util  total_acc initial_list_status  out_prncp  out_prncp_inv  total_pymnt  total_pymnt_inv  total_rec_prncp  total_rec_int  total_rec_late_fee  recoveries  collection_recovery_fee last_pymnt_d  last_pymnt_amnt last_credit_pull_d  collections_12_mths_ex_med  policy_code application_type  acc_now_delinq  chargeoff_within_12_mths  delinq_amnt  pub_rec_bankruptcies  tax_liens\n",
       "0  1077501    1296599       5000         5000           4975.0    36      10.7        162.9     B        B2          10           RENT     24000.0            Verified  Dec-11   Fully Paid     credit_card              Computer 27.6            0           Jan-85               1         3        0      13648     83.70%          9                   f        0.0            0.0       5863.2           5833.8           5000.0          863.2                 0.0         0.0                      0.0       Jan-15            171.6             May-16                         0.0            1       INDIVIDUAL               0                       0.0            0                   0.0        0.0\n",
       "1  1077430    1314167       2500         2500           2500.0    60      15.3         59.8     C        C4           1           RENT     30000.0     Source Verified  Dec-11  Charged Off             car                  bike  1.0            0           Apr-99               5         3        0       1687      9.40%          4                   f        0.0            0.0       1008.7           1008.7            456.5          435.2                 0.0       117.1                      1.1       Apr-13            119.7             Sep-13                         0.0            1       INDIVIDUAL               0                       0.0            0                   0.0        0.0\n",
       "2  1077175    1313524       2400         2400           2400.0    36      16.0         84.3     C        C5          10           RENT     12252.0        Not Verified  Dec-11   Fully Paid  small_business  real estate business  8.7            0           Nov-01               2         2        0       2956     98.50%         10                   f        0.0            0.0       3005.7           3005.7           2400.0          605.7                 0.0         0.0                      0.0       Jun-14            649.9             May-16                         0.0            1       INDIVIDUAL               0                       0.0            0                   0.0        0.0\n",
       "3  1076863    1277178      10000        10000          10000.0    36      13.5        339.3     C        C1          10           RENT     49200.0     Source Verified  Dec-11   Fully Paid           other              personel 20.0            0           Feb-96               1        10        0       5598        21%         37                   f        0.0            0.0      12231.9          12231.9          10000.0         2214.9                17.0         0.0                      0.0       Jan-15            357.5             Apr-16                         0.0            1       INDIVIDUAL               0                       0.0            0                   0.0        0.0\n",
       "4  1075358    1311748       3000         3000           3000.0    60      12.7         67.8     B        B5           1           RENT     80000.0     Source Verified  Dec-11      Current           other              Personal 17.9            0           Jan-96               0        15        0      27783     53.90%         38                   f      524.1          524.1       3513.3           3513.3           2475.9         1037.4                 0.0         0.0                      0.0       May-16             67.8             May-16                         0.0            1       INDIVIDUAL               0                       0.0            0                   0.0        0.0"
      ]
     },
     "execution_count": 130,
     "metadata": {},
     "output_type": "execute_result"
    }
   ],
   "source": [
    "\n",
    "# dropping columns \n",
    "loan = loan.drop(['desc','pymnt_plan','mths_since_last_record', 'mths_since_last_delinq', 'next_pymnt_d', 'zip_code', 'url', 'addr_state','emp_title'], axis=1)\n",
    "loan.head()\n"
   ]
  },
  {
   "cell_type": "code",
   "execution_count": 131,
   "metadata": {},
   "outputs": [
    {
     "name": "stdout",
     "output_type": "stream",
     "text": [
      "0.0    38603\n",
      "Name: tax_liens, dtype: int64\n"
     ]
    }
   ],
   "source": [
    "print(loan.tax_liens.value_counts())\n"
   ]
  },
  {
   "cell_type": "code",
   "execution_count": 132,
   "metadata": {},
   "outputs": [
    {
     "data": {
      "text/html": [
       "<div>\n",
       "<style scoped>\n",
       "    .dataframe tbody tr th:only-of-type {\n",
       "        vertical-align: middle;\n",
       "    }\n",
       "\n",
       "    .dataframe tbody tr th {\n",
       "        vertical-align: top;\n",
       "    }\n",
       "\n",
       "    .dataframe thead th {\n",
       "        text-align: right;\n",
       "    }\n",
       "</style>\n",
       "<table border=\"1\" class=\"dataframe\">\n",
       "  <thead>\n",
       "    <tr style=\"text-align: right;\">\n",
       "      <th></th>\n",
       "      <th>id</th>\n",
       "      <th>member_id</th>\n",
       "      <th>loan_amnt</th>\n",
       "      <th>funded_amnt</th>\n",
       "      <th>funded_amnt_inv</th>\n",
       "      <th>term</th>\n",
       "      <th>int_rate</th>\n",
       "      <th>installment</th>\n",
       "      <th>emp_length</th>\n",
       "      <th>annual_inc</th>\n",
       "      <th>dti</th>\n",
       "      <th>delinq_2yrs</th>\n",
       "      <th>inq_last_6mths</th>\n",
       "      <th>open_acc</th>\n",
       "      <th>pub_rec</th>\n",
       "      <th>revol_bal</th>\n",
       "      <th>total_acc</th>\n",
       "      <th>out_prncp</th>\n",
       "      <th>out_prncp_inv</th>\n",
       "      <th>total_pymnt</th>\n",
       "      <th>total_pymnt_inv</th>\n",
       "      <th>total_rec_prncp</th>\n",
       "      <th>total_rec_int</th>\n",
       "      <th>total_rec_late_fee</th>\n",
       "      <th>recoveries</th>\n",
       "      <th>collection_recovery_fee</th>\n",
       "      <th>last_pymnt_amnt</th>\n",
       "      <th>collections_12_mths_ex_med</th>\n",
       "      <th>policy_code</th>\n",
       "      <th>acc_now_delinq</th>\n",
       "      <th>chargeoff_within_12_mths</th>\n",
       "      <th>delinq_amnt</th>\n",
       "      <th>pub_rec_bankruptcies</th>\n",
       "      <th>tax_liens</th>\n",
       "    </tr>\n",
       "  </thead>\n",
       "  <tbody>\n",
       "    <tr>\n",
       "      <th>count</th>\n",
       "      <td>38642.0</td>\n",
       "      <td>38642.0</td>\n",
       "      <td>38642.0</td>\n",
       "      <td>38642.0</td>\n",
       "      <td>38642.0</td>\n",
       "      <td>38642.0</td>\n",
       "      <td>38642.0</td>\n",
       "      <td>38642.0</td>\n",
       "      <td>38642.0</td>\n",
       "      <td>38642.0</td>\n",
       "      <td>38642.0</td>\n",
       "      <td>38642.0</td>\n",
       "      <td>38642.0</td>\n",
       "      <td>38642.0</td>\n",
       "      <td>38642.0</td>\n",
       "      <td>38642.0</td>\n",
       "      <td>38642.0</td>\n",
       "      <td>38642.0</td>\n",
       "      <td>38642.0</td>\n",
       "      <td>38642.0</td>\n",
       "      <td>38642.0</td>\n",
       "      <td>38642.0</td>\n",
       "      <td>38642.0</td>\n",
       "      <td>38642.0</td>\n",
       "      <td>38642.0</td>\n",
       "      <td>38642.0</td>\n",
       "      <td>38642.0</td>\n",
       "      <td>38586.0</td>\n",
       "      <td>38642.0</td>\n",
       "      <td>38642.0</td>\n",
       "      <td>38586.0</td>\n",
       "      <td>38642.0</td>\n",
       "      <td>37945.0</td>\n",
       "      <td>38603.0</td>\n",
       "    </tr>\n",
       "    <tr>\n",
       "      <th>mean</th>\n",
       "      <td>681040.4</td>\n",
       "      <td>847659.3</td>\n",
       "      <td>11291.6</td>\n",
       "      <td>11017.1</td>\n",
       "      <td>10455.5</td>\n",
       "      <td>42.4</td>\n",
       "      <td>12.1</td>\n",
       "      <td>326.8</td>\n",
       "      <td>5.1</td>\n",
       "      <td>69608.3</td>\n",
       "      <td>13.3</td>\n",
       "      <td>0.1</td>\n",
       "      <td>0.9</td>\n",
       "      <td>9.3</td>\n",
       "      <td>0.1</td>\n",
       "      <td>13457.9</td>\n",
       "      <td>22.1</td>\n",
       "      <td>51.2</td>\n",
       "      <td>51.0</td>\n",
       "      <td>12243.5</td>\n",
       "      <td>11644.7</td>\n",
       "      <td>9864.6</td>\n",
       "      <td>2281.8</td>\n",
       "      <td>1.4</td>\n",
       "      <td>95.7</td>\n",
       "      <td>12.5</td>\n",
       "      <td>2702.1</td>\n",
       "      <td>0.0</td>\n",
       "      <td>1.0</td>\n",
       "      <td>0.0</td>\n",
       "      <td>0.0</td>\n",
       "      <td>0.0</td>\n",
       "      <td>0.0</td>\n",
       "      <td>0.0</td>\n",
       "    </tr>\n",
       "    <tr>\n",
       "      <th>std</th>\n",
       "      <td>211304.5</td>\n",
       "      <td>266779.6</td>\n",
       "      <td>7462.1</td>\n",
       "      <td>7193.0</td>\n",
       "      <td>7139.6</td>\n",
       "      <td>10.6</td>\n",
       "      <td>3.7</td>\n",
       "      <td>209.1</td>\n",
       "      <td>3.4</td>\n",
       "      <td>64253.2</td>\n",
       "      <td>6.7</td>\n",
       "      <td>0.5</td>\n",
       "      <td>1.1</td>\n",
       "      <td>4.4</td>\n",
       "      <td>0.2</td>\n",
       "      <td>15914.7</td>\n",
       "      <td>11.4</td>\n",
       "      <td>376.6</td>\n",
       "      <td>375.2</td>\n",
       "      <td>9056.3</td>\n",
       "      <td>8961.6</td>\n",
       "      <td>7076.1</td>\n",
       "      <td>2615.5</td>\n",
       "      <td>7.3</td>\n",
       "      <td>694.5</td>\n",
       "      <td>149.8</td>\n",
       "      <td>4467.7</td>\n",
       "      <td>0.0</td>\n",
       "      <td>0.0</td>\n",
       "      <td>0.0</td>\n",
       "      <td>0.0</td>\n",
       "      <td>0.0</td>\n",
       "      <td>0.2</td>\n",
       "      <td>0.0</td>\n",
       "    </tr>\n",
       "    <tr>\n",
       "      <th>min</th>\n",
       "      <td>54734.0</td>\n",
       "      <td>70699.0</td>\n",
       "      <td>500.0</td>\n",
       "      <td>500.0</td>\n",
       "      <td>0.0</td>\n",
       "      <td>36.0</td>\n",
       "      <td>5.4</td>\n",
       "      <td>15.7</td>\n",
       "      <td>1.0</td>\n",
       "      <td>4000.0</td>\n",
       "      <td>0.0</td>\n",
       "      <td>0.0</td>\n",
       "      <td>0.0</td>\n",
       "      <td>2.0</td>\n",
       "      <td>0.0</td>\n",
       "      <td>0.0</td>\n",
       "      <td>2.0</td>\n",
       "      <td>0.0</td>\n",
       "      <td>0.0</td>\n",
       "      <td>0.0</td>\n",
       "      <td>0.0</td>\n",
       "      <td>0.0</td>\n",
       "      <td>0.0</td>\n",
       "      <td>0.0</td>\n",
       "      <td>0.0</td>\n",
       "      <td>0.0</td>\n",
       "      <td>0.0</td>\n",
       "      <td>0.0</td>\n",
       "      <td>1.0</td>\n",
       "      <td>0.0</td>\n",
       "      <td>0.0</td>\n",
       "      <td>0.0</td>\n",
       "      <td>0.0</td>\n",
       "      <td>0.0</td>\n",
       "    </tr>\n",
       "    <tr>\n",
       "      <th>25%</th>\n",
       "      <td>513435.0</td>\n",
       "      <td>662863.2</td>\n",
       "      <td>5500.0</td>\n",
       "      <td>5500.0</td>\n",
       "      <td>5000.0</td>\n",
       "      <td>36.0</td>\n",
       "      <td>9.3</td>\n",
       "      <td>168.4</td>\n",
       "      <td>2.0</td>\n",
       "      <td>41400.0</td>\n",
       "      <td>8.2</td>\n",
       "      <td>0.0</td>\n",
       "      <td>0.0</td>\n",
       "      <td>6.0</td>\n",
       "      <td>0.0</td>\n",
       "      <td>3745.0</td>\n",
       "      <td>14.0</td>\n",
       "      <td>0.0</td>\n",
       "      <td>0.0</td>\n",
       "      <td>5624.9</td>\n",
       "      <td>5177.3</td>\n",
       "      <td>4750.0</td>\n",
       "      <td>671.8</td>\n",
       "      <td>0.0</td>\n",
       "      <td>0.0</td>\n",
       "      <td>0.0</td>\n",
       "      <td>222.0</td>\n",
       "      <td>0.0</td>\n",
       "      <td>1.0</td>\n",
       "      <td>0.0</td>\n",
       "      <td>0.0</td>\n",
       "      <td>0.0</td>\n",
       "      <td>0.0</td>\n",
       "      <td>0.0</td>\n",
       "    </tr>\n",
       "    <tr>\n",
       "      <th>50%</th>\n",
       "      <td>662770.5</td>\n",
       "      <td>847409.0</td>\n",
       "      <td>10000.0</td>\n",
       "      <td>9950.0</td>\n",
       "      <td>9000.0</td>\n",
       "      <td>36.0</td>\n",
       "      <td>11.9</td>\n",
       "      <td>282.8</td>\n",
       "      <td>4.0</td>\n",
       "      <td>60000.0</td>\n",
       "      <td>13.4</td>\n",
       "      <td>0.0</td>\n",
       "      <td>1.0</td>\n",
       "      <td>9.0</td>\n",
       "      <td>0.0</td>\n",
       "      <td>8938.0</td>\n",
       "      <td>20.0</td>\n",
       "      <td>0.0</td>\n",
       "      <td>0.0</td>\n",
       "      <td>10024.2</td>\n",
       "      <td>9378.9</td>\n",
       "      <td>8000.0</td>\n",
       "      <td>1367.6</td>\n",
       "      <td>0.0</td>\n",
       "      <td>0.0</td>\n",
       "      <td>0.0</td>\n",
       "      <td>554.7</td>\n",
       "      <td>0.0</td>\n",
       "      <td>1.0</td>\n",
       "      <td>0.0</td>\n",
       "      <td>0.0</td>\n",
       "      <td>0.0</td>\n",
       "      <td>0.0</td>\n",
       "      <td>0.0</td>\n",
       "    </tr>\n",
       "    <tr>\n",
       "      <th>75%</th>\n",
       "      <td>836491.2</td>\n",
       "      <td>1045642.5</td>\n",
       "      <td>15000.0</td>\n",
       "      <td>15000.0</td>\n",
       "      <td>14425.0</td>\n",
       "      <td>60.0</td>\n",
       "      <td>14.6</td>\n",
       "      <td>434.4</td>\n",
       "      <td>9.0</td>\n",
       "      <td>83200.0</td>\n",
       "      <td>18.6</td>\n",
       "      <td>0.0</td>\n",
       "      <td>1.0</td>\n",
       "      <td>12.0</td>\n",
       "      <td>0.0</td>\n",
       "      <td>17149.8</td>\n",
       "      <td>29.0</td>\n",
       "      <td>0.0</td>\n",
       "      <td>0.0</td>\n",
       "      <td>16645.2</td>\n",
       "      <td>15914.0</td>\n",
       "      <td>13874.7</td>\n",
       "      <td>2858.4</td>\n",
       "      <td>0.0</td>\n",
       "      <td>0.0</td>\n",
       "      <td>0.0</td>\n",
       "      <td>3337.9</td>\n",
       "      <td>0.0</td>\n",
       "      <td>1.0</td>\n",
       "      <td>0.0</td>\n",
       "      <td>0.0</td>\n",
       "      <td>0.0</td>\n",
       "      <td>0.0</td>\n",
       "      <td>0.0</td>\n",
       "    </tr>\n",
       "    <tr>\n",
       "      <th>max</th>\n",
       "      <td>1077501.0</td>\n",
       "      <td>1314167.0</td>\n",
       "      <td>35000.0</td>\n",
       "      <td>35000.0</td>\n",
       "      <td>35000.0</td>\n",
       "      <td>60.0</td>\n",
       "      <td>24.6</td>\n",
       "      <td>1305.2</td>\n",
       "      <td>10.0</td>\n",
       "      <td>6000000.0</td>\n",
       "      <td>30.0</td>\n",
       "      <td>11.0</td>\n",
       "      <td>8.0</td>\n",
       "      <td>44.0</td>\n",
       "      <td>4.0</td>\n",
       "      <td>149588.0</td>\n",
       "      <td>90.0</td>\n",
       "      <td>6311.5</td>\n",
       "      <td>6307.4</td>\n",
       "      <td>58563.7</td>\n",
       "      <td>58563.7</td>\n",
       "      <td>35000.0</td>\n",
       "      <td>23563.7</td>\n",
       "      <td>180.2</td>\n",
       "      <td>29623.3</td>\n",
       "      <td>7002.2</td>\n",
       "      <td>36115.2</td>\n",
       "      <td>0.0</td>\n",
       "      <td>1.0</td>\n",
       "      <td>0.0</td>\n",
       "      <td>0.0</td>\n",
       "      <td>0.0</td>\n",
       "      <td>2.0</td>\n",
       "      <td>0.0</td>\n",
       "    </tr>\n",
       "  </tbody>\n",
       "</table>\n",
       "</div>"
      ],
      "text/plain": [
       "             id  member_id  loan_amnt  funded_amnt  funded_amnt_inv    term  int_rate  installment  emp_length  annual_inc     dti  delinq_2yrs  inq_last_6mths  open_acc  pub_rec  revol_bal  total_acc  out_prncp  out_prncp_inv  total_pymnt  total_pymnt_inv  total_rec_prncp  total_rec_int  total_rec_late_fee  recoveries  collection_recovery_fee  last_pymnt_amnt  collections_12_mths_ex_med  policy_code  acc_now_delinq  chargeoff_within_12_mths  delinq_amnt  pub_rec_bankruptcies  tax_liens\n",
       "count   38642.0    38642.0    38642.0      38642.0          38642.0 38642.0   38642.0      38642.0     38642.0     38642.0 38642.0      38642.0         38642.0   38642.0  38642.0    38642.0    38642.0    38642.0        38642.0      38642.0          38642.0          38642.0        38642.0             38642.0     38642.0                  38642.0          38642.0                     38586.0      38642.0         38642.0                   38586.0      38642.0               37945.0    38603.0\n",
       "mean   681040.4   847659.3    11291.6      11017.1          10455.5    42.4      12.1        326.8         5.1     69608.3    13.3          0.1             0.9       9.3      0.1    13457.9       22.1       51.2           51.0      12243.5          11644.7           9864.6         2281.8                 1.4        95.7                     12.5           2702.1                         0.0          1.0             0.0                       0.0          0.0                   0.0        0.0\n",
       "std    211304.5   266779.6     7462.1       7193.0           7139.6    10.6       3.7        209.1         3.4     64253.2     6.7          0.5             1.1       4.4      0.2    15914.7       11.4      376.6          375.2       9056.3           8961.6           7076.1         2615.5                 7.3       694.5                    149.8           4467.7                         0.0          0.0             0.0                       0.0          0.0                   0.2        0.0\n",
       "min     54734.0    70699.0      500.0        500.0              0.0    36.0       5.4         15.7         1.0      4000.0     0.0          0.0             0.0       2.0      0.0        0.0        2.0        0.0            0.0          0.0              0.0              0.0            0.0                 0.0         0.0                      0.0              0.0                         0.0          1.0             0.0                       0.0          0.0                   0.0        0.0\n",
       "25%    513435.0   662863.2     5500.0       5500.0           5000.0    36.0       9.3        168.4         2.0     41400.0     8.2          0.0             0.0       6.0      0.0     3745.0       14.0        0.0            0.0       5624.9           5177.3           4750.0          671.8                 0.0         0.0                      0.0            222.0                         0.0          1.0             0.0                       0.0          0.0                   0.0        0.0\n",
       "50%    662770.5   847409.0    10000.0       9950.0           9000.0    36.0      11.9        282.8         4.0     60000.0    13.4          0.0             1.0       9.0      0.0     8938.0       20.0        0.0            0.0      10024.2           9378.9           8000.0         1367.6                 0.0         0.0                      0.0            554.7                         0.0          1.0             0.0                       0.0          0.0                   0.0        0.0\n",
       "75%    836491.2  1045642.5    15000.0      15000.0          14425.0    60.0      14.6        434.4         9.0     83200.0    18.6          0.0             1.0      12.0      0.0    17149.8       29.0        0.0            0.0      16645.2          15914.0          13874.7         2858.4                 0.0         0.0                      0.0           3337.9                         0.0          1.0             0.0                       0.0          0.0                   0.0        0.0\n",
       "max   1077501.0  1314167.0    35000.0      35000.0          35000.0    60.0      24.6       1305.2        10.0   6000000.0    30.0         11.0             8.0      44.0      4.0   149588.0       90.0     6311.5         6307.4      58563.7          58563.7          35000.0        23563.7               180.2     29623.3                   7002.2          36115.2                         0.0          1.0             0.0                       0.0          0.0                   2.0        0.0"
      ]
     },
     "execution_count": 132,
     "metadata": {},
     "output_type": "execute_result"
    }
   ],
   "source": [
    "loan.describe()"
   ]
  },
  {
   "cell_type": "markdown",
   "metadata": {},
   "source": [
    "Here we can observe that the data destribution on few numeric columns are 0.0, again this information is of not much\n",
    "usefull to us.\n",
    "\n",
    "The columns are collections_12_mths_ex_med, acc_now_delinq, chargeoff_within_12_mths, delinq_amnt, tax_liens.\n",
    "\n",
    "Thus, let's drop these columns"
   ]
  },
  {
   "cell_type": "code",
   "execution_count": 133,
   "metadata": {},
   "outputs": [
    {
     "name": "stdout",
     "output_type": "stream",
     "text": [
      "(38642, 43)\n"
     ]
    },
    {
     "data": {
      "text/html": [
       "<div>\n",
       "<style scoped>\n",
       "    .dataframe tbody tr th:only-of-type {\n",
       "        vertical-align: middle;\n",
       "    }\n",
       "\n",
       "    .dataframe tbody tr th {\n",
       "        vertical-align: top;\n",
       "    }\n",
       "\n",
       "    .dataframe thead th {\n",
       "        text-align: right;\n",
       "    }\n",
       "</style>\n",
       "<table border=\"1\" class=\"dataframe\">\n",
       "  <thead>\n",
       "    <tr style=\"text-align: right;\">\n",
       "      <th></th>\n",
       "      <th>id</th>\n",
       "      <th>member_id</th>\n",
       "      <th>loan_amnt</th>\n",
       "      <th>funded_amnt</th>\n",
       "      <th>funded_amnt_inv</th>\n",
       "      <th>term</th>\n",
       "      <th>int_rate</th>\n",
       "      <th>installment</th>\n",
       "      <th>grade</th>\n",
       "      <th>sub_grade</th>\n",
       "      <th>emp_length</th>\n",
       "      <th>home_ownership</th>\n",
       "      <th>annual_inc</th>\n",
       "      <th>verification_status</th>\n",
       "      <th>issue_d</th>\n",
       "      <th>loan_status</th>\n",
       "      <th>purpose</th>\n",
       "      <th>title</th>\n",
       "      <th>dti</th>\n",
       "      <th>delinq_2yrs</th>\n",
       "      <th>earliest_cr_line</th>\n",
       "      <th>inq_last_6mths</th>\n",
       "      <th>open_acc</th>\n",
       "      <th>pub_rec</th>\n",
       "      <th>revol_bal</th>\n",
       "      <th>revol_util</th>\n",
       "      <th>total_acc</th>\n",
       "      <th>initial_list_status</th>\n",
       "      <th>out_prncp</th>\n",
       "      <th>out_prncp_inv</th>\n",
       "      <th>total_pymnt</th>\n",
       "      <th>total_pymnt_inv</th>\n",
       "      <th>total_rec_prncp</th>\n",
       "      <th>total_rec_int</th>\n",
       "      <th>total_rec_late_fee</th>\n",
       "      <th>recoveries</th>\n",
       "      <th>collection_recovery_fee</th>\n",
       "      <th>last_pymnt_d</th>\n",
       "      <th>last_pymnt_amnt</th>\n",
       "      <th>last_credit_pull_d</th>\n",
       "      <th>policy_code</th>\n",
       "      <th>application_type</th>\n",
       "      <th>pub_rec_bankruptcies</th>\n",
       "    </tr>\n",
       "  </thead>\n",
       "  <tbody>\n",
       "    <tr>\n",
       "      <th>0</th>\n",
       "      <td>1077501</td>\n",
       "      <td>1296599</td>\n",
       "      <td>5000</td>\n",
       "      <td>5000</td>\n",
       "      <td>4975.0</td>\n",
       "      <td>36</td>\n",
       "      <td>10.7</td>\n",
       "      <td>162.9</td>\n",
       "      <td>B</td>\n",
       "      <td>B2</td>\n",
       "      <td>10</td>\n",
       "      <td>RENT</td>\n",
       "      <td>24000.0</td>\n",
       "      <td>Verified</td>\n",
       "      <td>Dec-11</td>\n",
       "      <td>Fully Paid</td>\n",
       "      <td>credit_card</td>\n",
       "      <td>Computer</td>\n",
       "      <td>27.6</td>\n",
       "      <td>0</td>\n",
       "      <td>Jan-85</td>\n",
       "      <td>1</td>\n",
       "      <td>3</td>\n",
       "      <td>0</td>\n",
       "      <td>13648</td>\n",
       "      <td>83.70%</td>\n",
       "      <td>9</td>\n",
       "      <td>f</td>\n",
       "      <td>0.0</td>\n",
       "      <td>0.0</td>\n",
       "      <td>5863.2</td>\n",
       "      <td>5833.8</td>\n",
       "      <td>5000.0</td>\n",
       "      <td>863.2</td>\n",
       "      <td>0.0</td>\n",
       "      <td>0.0</td>\n",
       "      <td>0.0</td>\n",
       "      <td>Jan-15</td>\n",
       "      <td>171.6</td>\n",
       "      <td>May-16</td>\n",
       "      <td>1</td>\n",
       "      <td>INDIVIDUAL</td>\n",
       "      <td>0.0</td>\n",
       "    </tr>\n",
       "    <tr>\n",
       "      <th>1</th>\n",
       "      <td>1077430</td>\n",
       "      <td>1314167</td>\n",
       "      <td>2500</td>\n",
       "      <td>2500</td>\n",
       "      <td>2500.0</td>\n",
       "      <td>60</td>\n",
       "      <td>15.3</td>\n",
       "      <td>59.8</td>\n",
       "      <td>C</td>\n",
       "      <td>C4</td>\n",
       "      <td>1</td>\n",
       "      <td>RENT</td>\n",
       "      <td>30000.0</td>\n",
       "      <td>Source Verified</td>\n",
       "      <td>Dec-11</td>\n",
       "      <td>Charged Off</td>\n",
       "      <td>car</td>\n",
       "      <td>bike</td>\n",
       "      <td>1.0</td>\n",
       "      <td>0</td>\n",
       "      <td>Apr-99</td>\n",
       "      <td>5</td>\n",
       "      <td>3</td>\n",
       "      <td>0</td>\n",
       "      <td>1687</td>\n",
       "      <td>9.40%</td>\n",
       "      <td>4</td>\n",
       "      <td>f</td>\n",
       "      <td>0.0</td>\n",
       "      <td>0.0</td>\n",
       "      <td>1008.7</td>\n",
       "      <td>1008.7</td>\n",
       "      <td>456.5</td>\n",
       "      <td>435.2</td>\n",
       "      <td>0.0</td>\n",
       "      <td>117.1</td>\n",
       "      <td>1.1</td>\n",
       "      <td>Apr-13</td>\n",
       "      <td>119.7</td>\n",
       "      <td>Sep-13</td>\n",
       "      <td>1</td>\n",
       "      <td>INDIVIDUAL</td>\n",
       "      <td>0.0</td>\n",
       "    </tr>\n",
       "    <tr>\n",
       "      <th>2</th>\n",
       "      <td>1077175</td>\n",
       "      <td>1313524</td>\n",
       "      <td>2400</td>\n",
       "      <td>2400</td>\n",
       "      <td>2400.0</td>\n",
       "      <td>36</td>\n",
       "      <td>16.0</td>\n",
       "      <td>84.3</td>\n",
       "      <td>C</td>\n",
       "      <td>C5</td>\n",
       "      <td>10</td>\n",
       "      <td>RENT</td>\n",
       "      <td>12252.0</td>\n",
       "      <td>Not Verified</td>\n",
       "      <td>Dec-11</td>\n",
       "      <td>Fully Paid</td>\n",
       "      <td>small_business</td>\n",
       "      <td>real estate business</td>\n",
       "      <td>8.7</td>\n",
       "      <td>0</td>\n",
       "      <td>Nov-01</td>\n",
       "      <td>2</td>\n",
       "      <td>2</td>\n",
       "      <td>0</td>\n",
       "      <td>2956</td>\n",
       "      <td>98.50%</td>\n",
       "      <td>10</td>\n",
       "      <td>f</td>\n",
       "      <td>0.0</td>\n",
       "      <td>0.0</td>\n",
       "      <td>3005.7</td>\n",
       "      <td>3005.7</td>\n",
       "      <td>2400.0</td>\n",
       "      <td>605.7</td>\n",
       "      <td>0.0</td>\n",
       "      <td>0.0</td>\n",
       "      <td>0.0</td>\n",
       "      <td>Jun-14</td>\n",
       "      <td>649.9</td>\n",
       "      <td>May-16</td>\n",
       "      <td>1</td>\n",
       "      <td>INDIVIDUAL</td>\n",
       "      <td>0.0</td>\n",
       "    </tr>\n",
       "    <tr>\n",
       "      <th>3</th>\n",
       "      <td>1076863</td>\n",
       "      <td>1277178</td>\n",
       "      <td>10000</td>\n",
       "      <td>10000</td>\n",
       "      <td>10000.0</td>\n",
       "      <td>36</td>\n",
       "      <td>13.5</td>\n",
       "      <td>339.3</td>\n",
       "      <td>C</td>\n",
       "      <td>C1</td>\n",
       "      <td>10</td>\n",
       "      <td>RENT</td>\n",
       "      <td>49200.0</td>\n",
       "      <td>Source Verified</td>\n",
       "      <td>Dec-11</td>\n",
       "      <td>Fully Paid</td>\n",
       "      <td>other</td>\n",
       "      <td>personel</td>\n",
       "      <td>20.0</td>\n",
       "      <td>0</td>\n",
       "      <td>Feb-96</td>\n",
       "      <td>1</td>\n",
       "      <td>10</td>\n",
       "      <td>0</td>\n",
       "      <td>5598</td>\n",
       "      <td>21%</td>\n",
       "      <td>37</td>\n",
       "      <td>f</td>\n",
       "      <td>0.0</td>\n",
       "      <td>0.0</td>\n",
       "      <td>12231.9</td>\n",
       "      <td>12231.9</td>\n",
       "      <td>10000.0</td>\n",
       "      <td>2214.9</td>\n",
       "      <td>17.0</td>\n",
       "      <td>0.0</td>\n",
       "      <td>0.0</td>\n",
       "      <td>Jan-15</td>\n",
       "      <td>357.5</td>\n",
       "      <td>Apr-16</td>\n",
       "      <td>1</td>\n",
       "      <td>INDIVIDUAL</td>\n",
       "      <td>0.0</td>\n",
       "    </tr>\n",
       "    <tr>\n",
       "      <th>4</th>\n",
       "      <td>1075358</td>\n",
       "      <td>1311748</td>\n",
       "      <td>3000</td>\n",
       "      <td>3000</td>\n",
       "      <td>3000.0</td>\n",
       "      <td>60</td>\n",
       "      <td>12.7</td>\n",
       "      <td>67.8</td>\n",
       "      <td>B</td>\n",
       "      <td>B5</td>\n",
       "      <td>1</td>\n",
       "      <td>RENT</td>\n",
       "      <td>80000.0</td>\n",
       "      <td>Source Verified</td>\n",
       "      <td>Dec-11</td>\n",
       "      <td>Current</td>\n",
       "      <td>other</td>\n",
       "      <td>Personal</td>\n",
       "      <td>17.9</td>\n",
       "      <td>0</td>\n",
       "      <td>Jan-96</td>\n",
       "      <td>0</td>\n",
       "      <td>15</td>\n",
       "      <td>0</td>\n",
       "      <td>27783</td>\n",
       "      <td>53.90%</td>\n",
       "      <td>38</td>\n",
       "      <td>f</td>\n",
       "      <td>524.1</td>\n",
       "      <td>524.1</td>\n",
       "      <td>3513.3</td>\n",
       "      <td>3513.3</td>\n",
       "      <td>2475.9</td>\n",
       "      <td>1037.4</td>\n",
       "      <td>0.0</td>\n",
       "      <td>0.0</td>\n",
       "      <td>0.0</td>\n",
       "      <td>May-16</td>\n",
       "      <td>67.8</td>\n",
       "      <td>May-16</td>\n",
       "      <td>1</td>\n",
       "      <td>INDIVIDUAL</td>\n",
       "      <td>0.0</td>\n",
       "    </tr>\n",
       "  </tbody>\n",
       "</table>\n",
       "</div>"
      ],
      "text/plain": [
       "        id  member_id  loan_amnt  funded_amnt  funded_amnt_inv  term  int_rate  installment grade sub_grade  emp_length home_ownership  annual_inc verification_status issue_d  loan_status         purpose                 title  dti  delinq_2yrs earliest_cr_line  inq_last_6mths  open_acc  pub_rec  revol_bal revol_util  total_acc initial_list_status  out_prncp  out_prncp_inv  total_pymnt  total_pymnt_inv  total_rec_prncp  total_rec_int  total_rec_late_fee  recoveries  collection_recovery_fee last_pymnt_d  last_pymnt_amnt last_credit_pull_d  policy_code application_type  pub_rec_bankruptcies\n",
       "0  1077501    1296599       5000         5000           4975.0    36      10.7        162.9     B        B2          10           RENT     24000.0            Verified  Dec-11   Fully Paid     credit_card              Computer 27.6            0           Jan-85               1         3        0      13648     83.70%          9                   f        0.0            0.0       5863.2           5833.8           5000.0          863.2                 0.0         0.0                      0.0       Jan-15            171.6             May-16            1       INDIVIDUAL                   0.0\n",
       "1  1077430    1314167       2500         2500           2500.0    60      15.3         59.8     C        C4           1           RENT     30000.0     Source Verified  Dec-11  Charged Off             car                  bike  1.0            0           Apr-99               5         3        0       1687      9.40%          4                   f        0.0            0.0       1008.7           1008.7            456.5          435.2                 0.0       117.1                      1.1       Apr-13            119.7             Sep-13            1       INDIVIDUAL                   0.0\n",
       "2  1077175    1313524       2400         2400           2400.0    36      16.0         84.3     C        C5          10           RENT     12252.0        Not Verified  Dec-11   Fully Paid  small_business  real estate business  8.7            0           Nov-01               2         2        0       2956     98.50%         10                   f        0.0            0.0       3005.7           3005.7           2400.0          605.7                 0.0         0.0                      0.0       Jun-14            649.9             May-16            1       INDIVIDUAL                   0.0\n",
       "3  1076863    1277178      10000        10000          10000.0    36      13.5        339.3     C        C1          10           RENT     49200.0     Source Verified  Dec-11   Fully Paid           other              personel 20.0            0           Feb-96               1        10        0       5598        21%         37                   f        0.0            0.0      12231.9          12231.9          10000.0         2214.9                17.0         0.0                      0.0       Jan-15            357.5             Apr-16            1       INDIVIDUAL                   0.0\n",
       "4  1075358    1311748       3000         3000           3000.0    60      12.7         67.8     B        B5           1           RENT     80000.0     Source Verified  Dec-11      Current           other              Personal 17.9            0           Jan-96               0        15        0      27783     53.90%         38                   f      524.1          524.1       3513.3           3513.3           2475.9         1037.4                 0.0         0.0                      0.0       May-16             67.8             May-16            1       INDIVIDUAL                   0.0"
      ]
     },
     "execution_count": 133,
     "metadata": {},
     "output_type": "execute_result"
    }
   ],
   "source": [
    "# dropping columns \n",
    "loan = loan.drop(['collections_12_mths_ex_med', 'acc_now_delinq', 'chargeoff_within_12_mths', 'delinq_amnt', 'tax_liens'], axis=1)\n",
    "print(loan.shape)\n",
    "loan.head()"
   ]
  },
  {
   "cell_type": "markdown",
   "metadata": {},
   "source": [
    "Lets validate few more categorical column for data spread \n",
    "\n",
    "Columns:  policy_code, pymnt_plan, application_type, initial_list_status : all these columns has a singular string \n",
    "value which can't be much useful in the analysis.\n",
    "        \n",
    "So let's Drop these columns."
   ]
  },
  {
   "cell_type": "code",
   "execution_count": 134,
   "metadata": {},
   "outputs": [
    {
     "name": "stdout",
     "output_type": "stream",
     "text": [
      "1    38642\n",
      "Name: policy_code, dtype: int64\n",
      "INDIVIDUAL    38642\n",
      "Name: application_type, dtype: int64\n",
      "f    38642\n",
      "Name: initial_list_status, dtype: int64\n"
     ]
    }
   ],
   "source": [
    "print(loan.policy_code.value_counts())\n",
    "\n",
    "print(loan.application_type.value_counts())\n",
    "\n",
    "print(loan.initial_list_status.value_counts())\n"
   ]
  },
  {
   "cell_type": "code",
   "execution_count": 135,
   "metadata": {},
   "outputs": [
    {
     "name": "stdout",
     "output_type": "stream",
     "text": [
      "(38642, 40)\n"
     ]
    },
    {
     "data": {
      "text/html": [
       "<div>\n",
       "<style scoped>\n",
       "    .dataframe tbody tr th:only-of-type {\n",
       "        vertical-align: middle;\n",
       "    }\n",
       "\n",
       "    .dataframe tbody tr th {\n",
       "        vertical-align: top;\n",
       "    }\n",
       "\n",
       "    .dataframe thead th {\n",
       "        text-align: right;\n",
       "    }\n",
       "</style>\n",
       "<table border=\"1\" class=\"dataframe\">\n",
       "  <thead>\n",
       "    <tr style=\"text-align: right;\">\n",
       "      <th></th>\n",
       "      <th>id</th>\n",
       "      <th>member_id</th>\n",
       "      <th>loan_amnt</th>\n",
       "      <th>funded_amnt</th>\n",
       "      <th>funded_amnt_inv</th>\n",
       "      <th>term</th>\n",
       "      <th>int_rate</th>\n",
       "      <th>installment</th>\n",
       "      <th>grade</th>\n",
       "      <th>sub_grade</th>\n",
       "      <th>emp_length</th>\n",
       "      <th>home_ownership</th>\n",
       "      <th>annual_inc</th>\n",
       "      <th>verification_status</th>\n",
       "      <th>issue_d</th>\n",
       "      <th>loan_status</th>\n",
       "      <th>purpose</th>\n",
       "      <th>title</th>\n",
       "      <th>dti</th>\n",
       "      <th>delinq_2yrs</th>\n",
       "      <th>earliest_cr_line</th>\n",
       "      <th>inq_last_6mths</th>\n",
       "      <th>open_acc</th>\n",
       "      <th>pub_rec</th>\n",
       "      <th>revol_bal</th>\n",
       "      <th>revol_util</th>\n",
       "      <th>total_acc</th>\n",
       "      <th>out_prncp</th>\n",
       "      <th>out_prncp_inv</th>\n",
       "      <th>total_pymnt</th>\n",
       "      <th>total_pymnt_inv</th>\n",
       "      <th>total_rec_prncp</th>\n",
       "      <th>total_rec_int</th>\n",
       "      <th>total_rec_late_fee</th>\n",
       "      <th>recoveries</th>\n",
       "      <th>collection_recovery_fee</th>\n",
       "      <th>last_pymnt_d</th>\n",
       "      <th>last_pymnt_amnt</th>\n",
       "      <th>last_credit_pull_d</th>\n",
       "      <th>pub_rec_bankruptcies</th>\n",
       "    </tr>\n",
       "  </thead>\n",
       "  <tbody>\n",
       "    <tr>\n",
       "      <th>0</th>\n",
       "      <td>1077501</td>\n",
       "      <td>1296599</td>\n",
       "      <td>5000</td>\n",
       "      <td>5000</td>\n",
       "      <td>4975.0</td>\n",
       "      <td>36</td>\n",
       "      <td>10.7</td>\n",
       "      <td>162.9</td>\n",
       "      <td>B</td>\n",
       "      <td>B2</td>\n",
       "      <td>10</td>\n",
       "      <td>RENT</td>\n",
       "      <td>24000.0</td>\n",
       "      <td>Verified</td>\n",
       "      <td>Dec-11</td>\n",
       "      <td>Fully Paid</td>\n",
       "      <td>credit_card</td>\n",
       "      <td>Computer</td>\n",
       "      <td>27.6</td>\n",
       "      <td>0</td>\n",
       "      <td>Jan-85</td>\n",
       "      <td>1</td>\n",
       "      <td>3</td>\n",
       "      <td>0</td>\n",
       "      <td>13648</td>\n",
       "      <td>83.70%</td>\n",
       "      <td>9</td>\n",
       "      <td>0.0</td>\n",
       "      <td>0.0</td>\n",
       "      <td>5863.2</td>\n",
       "      <td>5833.8</td>\n",
       "      <td>5000.0</td>\n",
       "      <td>863.2</td>\n",
       "      <td>0.0</td>\n",
       "      <td>0.0</td>\n",
       "      <td>0.0</td>\n",
       "      <td>Jan-15</td>\n",
       "      <td>171.6</td>\n",
       "      <td>May-16</td>\n",
       "      <td>0.0</td>\n",
       "    </tr>\n",
       "    <tr>\n",
       "      <th>1</th>\n",
       "      <td>1077430</td>\n",
       "      <td>1314167</td>\n",
       "      <td>2500</td>\n",
       "      <td>2500</td>\n",
       "      <td>2500.0</td>\n",
       "      <td>60</td>\n",
       "      <td>15.3</td>\n",
       "      <td>59.8</td>\n",
       "      <td>C</td>\n",
       "      <td>C4</td>\n",
       "      <td>1</td>\n",
       "      <td>RENT</td>\n",
       "      <td>30000.0</td>\n",
       "      <td>Source Verified</td>\n",
       "      <td>Dec-11</td>\n",
       "      <td>Charged Off</td>\n",
       "      <td>car</td>\n",
       "      <td>bike</td>\n",
       "      <td>1.0</td>\n",
       "      <td>0</td>\n",
       "      <td>Apr-99</td>\n",
       "      <td>5</td>\n",
       "      <td>3</td>\n",
       "      <td>0</td>\n",
       "      <td>1687</td>\n",
       "      <td>9.40%</td>\n",
       "      <td>4</td>\n",
       "      <td>0.0</td>\n",
       "      <td>0.0</td>\n",
       "      <td>1008.7</td>\n",
       "      <td>1008.7</td>\n",
       "      <td>456.5</td>\n",
       "      <td>435.2</td>\n",
       "      <td>0.0</td>\n",
       "      <td>117.1</td>\n",
       "      <td>1.1</td>\n",
       "      <td>Apr-13</td>\n",
       "      <td>119.7</td>\n",
       "      <td>Sep-13</td>\n",
       "      <td>0.0</td>\n",
       "    </tr>\n",
       "    <tr>\n",
       "      <th>2</th>\n",
       "      <td>1077175</td>\n",
       "      <td>1313524</td>\n",
       "      <td>2400</td>\n",
       "      <td>2400</td>\n",
       "      <td>2400.0</td>\n",
       "      <td>36</td>\n",
       "      <td>16.0</td>\n",
       "      <td>84.3</td>\n",
       "      <td>C</td>\n",
       "      <td>C5</td>\n",
       "      <td>10</td>\n",
       "      <td>RENT</td>\n",
       "      <td>12252.0</td>\n",
       "      <td>Not Verified</td>\n",
       "      <td>Dec-11</td>\n",
       "      <td>Fully Paid</td>\n",
       "      <td>small_business</td>\n",
       "      <td>real estate business</td>\n",
       "      <td>8.7</td>\n",
       "      <td>0</td>\n",
       "      <td>Nov-01</td>\n",
       "      <td>2</td>\n",
       "      <td>2</td>\n",
       "      <td>0</td>\n",
       "      <td>2956</td>\n",
       "      <td>98.50%</td>\n",
       "      <td>10</td>\n",
       "      <td>0.0</td>\n",
       "      <td>0.0</td>\n",
       "      <td>3005.7</td>\n",
       "      <td>3005.7</td>\n",
       "      <td>2400.0</td>\n",
       "      <td>605.7</td>\n",
       "      <td>0.0</td>\n",
       "      <td>0.0</td>\n",
       "      <td>0.0</td>\n",
       "      <td>Jun-14</td>\n",
       "      <td>649.9</td>\n",
       "      <td>May-16</td>\n",
       "      <td>0.0</td>\n",
       "    </tr>\n",
       "    <tr>\n",
       "      <th>3</th>\n",
       "      <td>1076863</td>\n",
       "      <td>1277178</td>\n",
       "      <td>10000</td>\n",
       "      <td>10000</td>\n",
       "      <td>10000.0</td>\n",
       "      <td>36</td>\n",
       "      <td>13.5</td>\n",
       "      <td>339.3</td>\n",
       "      <td>C</td>\n",
       "      <td>C1</td>\n",
       "      <td>10</td>\n",
       "      <td>RENT</td>\n",
       "      <td>49200.0</td>\n",
       "      <td>Source Verified</td>\n",
       "      <td>Dec-11</td>\n",
       "      <td>Fully Paid</td>\n",
       "      <td>other</td>\n",
       "      <td>personel</td>\n",
       "      <td>20.0</td>\n",
       "      <td>0</td>\n",
       "      <td>Feb-96</td>\n",
       "      <td>1</td>\n",
       "      <td>10</td>\n",
       "      <td>0</td>\n",
       "      <td>5598</td>\n",
       "      <td>21%</td>\n",
       "      <td>37</td>\n",
       "      <td>0.0</td>\n",
       "      <td>0.0</td>\n",
       "      <td>12231.9</td>\n",
       "      <td>12231.9</td>\n",
       "      <td>10000.0</td>\n",
       "      <td>2214.9</td>\n",
       "      <td>17.0</td>\n",
       "      <td>0.0</td>\n",
       "      <td>0.0</td>\n",
       "      <td>Jan-15</td>\n",
       "      <td>357.5</td>\n",
       "      <td>Apr-16</td>\n",
       "      <td>0.0</td>\n",
       "    </tr>\n",
       "    <tr>\n",
       "      <th>4</th>\n",
       "      <td>1075358</td>\n",
       "      <td>1311748</td>\n",
       "      <td>3000</td>\n",
       "      <td>3000</td>\n",
       "      <td>3000.0</td>\n",
       "      <td>60</td>\n",
       "      <td>12.7</td>\n",
       "      <td>67.8</td>\n",
       "      <td>B</td>\n",
       "      <td>B5</td>\n",
       "      <td>1</td>\n",
       "      <td>RENT</td>\n",
       "      <td>80000.0</td>\n",
       "      <td>Source Verified</td>\n",
       "      <td>Dec-11</td>\n",
       "      <td>Current</td>\n",
       "      <td>other</td>\n",
       "      <td>Personal</td>\n",
       "      <td>17.9</td>\n",
       "      <td>0</td>\n",
       "      <td>Jan-96</td>\n",
       "      <td>0</td>\n",
       "      <td>15</td>\n",
       "      <td>0</td>\n",
       "      <td>27783</td>\n",
       "      <td>53.90%</td>\n",
       "      <td>38</td>\n",
       "      <td>524.1</td>\n",
       "      <td>524.1</td>\n",
       "      <td>3513.3</td>\n",
       "      <td>3513.3</td>\n",
       "      <td>2475.9</td>\n",
       "      <td>1037.4</td>\n",
       "      <td>0.0</td>\n",
       "      <td>0.0</td>\n",
       "      <td>0.0</td>\n",
       "      <td>May-16</td>\n",
       "      <td>67.8</td>\n",
       "      <td>May-16</td>\n",
       "      <td>0.0</td>\n",
       "    </tr>\n",
       "  </tbody>\n",
       "</table>\n",
       "</div>"
      ],
      "text/plain": [
       "        id  member_id  loan_amnt  funded_amnt  funded_amnt_inv  term  int_rate  installment grade sub_grade  emp_length home_ownership  annual_inc verification_status issue_d  loan_status         purpose                 title  dti  delinq_2yrs earliest_cr_line  inq_last_6mths  open_acc  pub_rec  revol_bal revol_util  total_acc  out_prncp  out_prncp_inv  total_pymnt  total_pymnt_inv  total_rec_prncp  total_rec_int  total_rec_late_fee  recoveries  collection_recovery_fee last_pymnt_d  last_pymnt_amnt last_credit_pull_d  pub_rec_bankruptcies\n",
       "0  1077501    1296599       5000         5000           4975.0    36      10.7        162.9     B        B2          10           RENT     24000.0            Verified  Dec-11   Fully Paid     credit_card              Computer 27.6            0           Jan-85               1         3        0      13648     83.70%          9        0.0            0.0       5863.2           5833.8           5000.0          863.2                 0.0         0.0                      0.0       Jan-15            171.6             May-16                   0.0\n",
       "1  1077430    1314167       2500         2500           2500.0    60      15.3         59.8     C        C4           1           RENT     30000.0     Source Verified  Dec-11  Charged Off             car                  bike  1.0            0           Apr-99               5         3        0       1687      9.40%          4        0.0            0.0       1008.7           1008.7            456.5          435.2                 0.0       117.1                      1.1       Apr-13            119.7             Sep-13                   0.0\n",
       "2  1077175    1313524       2400         2400           2400.0    36      16.0         84.3     C        C5          10           RENT     12252.0        Not Verified  Dec-11   Fully Paid  small_business  real estate business  8.7            0           Nov-01               2         2        0       2956     98.50%         10        0.0            0.0       3005.7           3005.7           2400.0          605.7                 0.0         0.0                      0.0       Jun-14            649.9             May-16                   0.0\n",
       "3  1076863    1277178      10000        10000          10000.0    36      13.5        339.3     C        C1          10           RENT     49200.0     Source Verified  Dec-11   Fully Paid           other              personel 20.0            0           Feb-96               1        10        0       5598        21%         37        0.0            0.0      12231.9          12231.9          10000.0         2214.9                17.0         0.0                      0.0       Jan-15            357.5             Apr-16                   0.0\n",
       "4  1075358    1311748       3000         3000           3000.0    60      12.7         67.8     B        B5           1           RENT     80000.0     Source Verified  Dec-11      Current           other              Personal 17.9            0           Jan-96               0        15        0      27783     53.90%         38      524.1          524.1       3513.3           3513.3           2475.9         1037.4                 0.0         0.0                      0.0       May-16             67.8             May-16                   0.0"
      ]
     },
     "execution_count": 135,
     "metadata": {},
     "output_type": "execute_result"
    }
   ],
   "source": [
    "# dropping columns \n",
    "loan = loan.drop(['policy_code', 'application_type', 'initial_list_status'], axis=1)\n",
    "print(loan.shape)\n",
    "loan.head()"
   ]
  },
  {
   "cell_type": "markdown",
   "metadata": {},
   "source": [
    "We clearly have a reduced dataset with lesser amount of usefull columns, \n",
    "\n",
    "loan Datset shape: (38642, 40)\n",
    "\n",
    "Let's handle the missing values in Rows\n"
   ]
  },
  {
   "cell_type": "code",
   "execution_count": 136,
   "metadata": {},
   "outputs": [
    {
     "data": {
      "text/plain": [
       "id                        0.0\n",
       "member_id                 0.0\n",
       "loan_amnt                 0.0\n",
       "funded_amnt               0.0\n",
       "funded_amnt_inv           0.0\n",
       "term                      0.0\n",
       "int_rate                  0.0\n",
       "installment               0.0\n",
       "grade                     0.0\n",
       "sub_grade                 0.0\n",
       "emp_length                0.0\n",
       "home_ownership            0.0\n",
       "annual_inc                0.0\n",
       "verification_status       0.0\n",
       "issue_d                   0.0\n",
       "loan_status               0.0\n",
       "purpose                   0.0\n",
       "title                     0.0\n",
       "dti                       0.0\n",
       "delinq_2yrs               0.0\n",
       "earliest_cr_line          0.0\n",
       "inq_last_6mths            0.0\n",
       "open_acc                  0.0\n",
       "pub_rec                   0.0\n",
       "revol_bal                 0.0\n",
       "revol_util                0.1\n",
       "total_acc                 0.0\n",
       "out_prncp                 0.0\n",
       "out_prncp_inv             0.0\n",
       "total_pymnt               0.0\n",
       "total_pymnt_inv           0.0\n",
       "total_rec_prncp           0.0\n",
       "total_rec_int             0.0\n",
       "total_rec_late_fee        0.0\n",
       "recoveries                0.0\n",
       "collection_recovery_fee   0.0\n",
       "last_pymnt_d              0.2\n",
       "last_pymnt_amnt           0.0\n",
       "last_credit_pull_d        0.0\n",
       "pub_rec_bankruptcies      1.8\n",
       "dtype: float64"
      ]
     },
     "execution_count": 136,
     "metadata": {},
     "output_type": "execute_result"
    }
   ],
   "source": [
    "\n",
    "round(100*(loan.isnull().sum()/len(loan.index)), 2)"
   ]
  },
  {
   "cell_type": "code",
   "execution_count": 137,
   "metadata": {},
   "outputs": [
    {
     "data": {
      "text/plain": [
       "count   38595.0\n",
       "mean       49.0\n",
       "std        28.3\n",
       "min         0.0\n",
       "25%        25.6\n",
       "50%        49.5\n",
       "75%        72.5\n",
       "max        99.9\n",
       "Name: revol_util, dtype: float64"
      ]
     },
     "execution_count": 137,
     "metadata": {},
     "output_type": "execute_result"
    }
   ],
   "source": [
    "# Revolving line utilization rate, \n",
    "# or the amount of credit the borrower is using relative to all available revolving credit.\n",
    "loan.revol_util = loan.revol_util.apply(lambda x:float(str(x).strip('%')))\n",
    "loan.revol_util.describe()"
   ]
  },
  {
   "cell_type": "markdown",
   "metadata": {},
   "source": [
    "After converting the str type to float , we observe 0.1% of missing value.\n",
    "Let's impute these values with median"
   ]
  },
  {
   "cell_type": "code",
   "execution_count": 138,
   "metadata": {},
   "outputs": [
    {
     "name": "stdout",
     "output_type": "stream",
     "text": [
      "0\n"
     ]
    },
    {
     "data": {
      "text/html": [
       "<div>\n",
       "<style scoped>\n",
       "    .dataframe tbody tr th:only-of-type {\n",
       "        vertical-align: middle;\n",
       "    }\n",
       "\n",
       "    .dataframe tbody tr th {\n",
       "        vertical-align: top;\n",
       "    }\n",
       "\n",
       "    .dataframe thead th {\n",
       "        text-align: right;\n",
       "    }\n",
       "</style>\n",
       "<table border=\"1\" class=\"dataframe\">\n",
       "  <thead>\n",
       "    <tr style=\"text-align: right;\">\n",
       "      <th></th>\n",
       "      <th>id</th>\n",
       "      <th>member_id</th>\n",
       "      <th>loan_amnt</th>\n",
       "      <th>funded_amnt</th>\n",
       "      <th>funded_amnt_inv</th>\n",
       "      <th>term</th>\n",
       "      <th>int_rate</th>\n",
       "      <th>installment</th>\n",
       "      <th>grade</th>\n",
       "      <th>sub_grade</th>\n",
       "      <th>emp_length</th>\n",
       "      <th>home_ownership</th>\n",
       "      <th>annual_inc</th>\n",
       "      <th>verification_status</th>\n",
       "      <th>issue_d</th>\n",
       "      <th>loan_status</th>\n",
       "      <th>purpose</th>\n",
       "      <th>title</th>\n",
       "      <th>dti</th>\n",
       "      <th>delinq_2yrs</th>\n",
       "      <th>earliest_cr_line</th>\n",
       "      <th>inq_last_6mths</th>\n",
       "      <th>open_acc</th>\n",
       "      <th>pub_rec</th>\n",
       "      <th>revol_bal</th>\n",
       "      <th>revol_util</th>\n",
       "      <th>total_acc</th>\n",
       "      <th>out_prncp</th>\n",
       "      <th>out_prncp_inv</th>\n",
       "      <th>total_pymnt</th>\n",
       "      <th>total_pymnt_inv</th>\n",
       "      <th>total_rec_prncp</th>\n",
       "      <th>total_rec_int</th>\n",
       "      <th>total_rec_late_fee</th>\n",
       "      <th>recoveries</th>\n",
       "      <th>collection_recovery_fee</th>\n",
       "      <th>last_pymnt_d</th>\n",
       "      <th>last_pymnt_amnt</th>\n",
       "      <th>last_credit_pull_d</th>\n",
       "      <th>pub_rec_bankruptcies</th>\n",
       "    </tr>\n",
       "  </thead>\n",
       "  <tbody>\n",
       "    <tr>\n",
       "      <th>0</th>\n",
       "      <td>1077501</td>\n",
       "      <td>1296599</td>\n",
       "      <td>5000</td>\n",
       "      <td>5000</td>\n",
       "      <td>4975.0</td>\n",
       "      <td>36</td>\n",
       "      <td>10.7</td>\n",
       "      <td>162.9</td>\n",
       "      <td>B</td>\n",
       "      <td>B2</td>\n",
       "      <td>10</td>\n",
       "      <td>RENT</td>\n",
       "      <td>24000.0</td>\n",
       "      <td>Verified</td>\n",
       "      <td>Dec-11</td>\n",
       "      <td>Fully Paid</td>\n",
       "      <td>credit_card</td>\n",
       "      <td>Computer</td>\n",
       "      <td>27.6</td>\n",
       "      <td>0</td>\n",
       "      <td>Jan-85</td>\n",
       "      <td>1</td>\n",
       "      <td>3</td>\n",
       "      <td>0</td>\n",
       "      <td>13648</td>\n",
       "      <td>83.7</td>\n",
       "      <td>9</td>\n",
       "      <td>0.0</td>\n",
       "      <td>0.0</td>\n",
       "      <td>5863.2</td>\n",
       "      <td>5833.8</td>\n",
       "      <td>5000.0</td>\n",
       "      <td>863.2</td>\n",
       "      <td>0.0</td>\n",
       "      <td>0.0</td>\n",
       "      <td>0.0</td>\n",
       "      <td>Jan-15</td>\n",
       "      <td>171.6</td>\n",
       "      <td>May-16</td>\n",
       "      <td>0.0</td>\n",
       "    </tr>\n",
       "    <tr>\n",
       "      <th>1</th>\n",
       "      <td>1077430</td>\n",
       "      <td>1314167</td>\n",
       "      <td>2500</td>\n",
       "      <td>2500</td>\n",
       "      <td>2500.0</td>\n",
       "      <td>60</td>\n",
       "      <td>15.3</td>\n",
       "      <td>59.8</td>\n",
       "      <td>C</td>\n",
       "      <td>C4</td>\n",
       "      <td>1</td>\n",
       "      <td>RENT</td>\n",
       "      <td>30000.0</td>\n",
       "      <td>Source Verified</td>\n",
       "      <td>Dec-11</td>\n",
       "      <td>Charged Off</td>\n",
       "      <td>car</td>\n",
       "      <td>bike</td>\n",
       "      <td>1.0</td>\n",
       "      <td>0</td>\n",
       "      <td>Apr-99</td>\n",
       "      <td>5</td>\n",
       "      <td>3</td>\n",
       "      <td>0</td>\n",
       "      <td>1687</td>\n",
       "      <td>9.4</td>\n",
       "      <td>4</td>\n",
       "      <td>0.0</td>\n",
       "      <td>0.0</td>\n",
       "      <td>1008.7</td>\n",
       "      <td>1008.7</td>\n",
       "      <td>456.5</td>\n",
       "      <td>435.2</td>\n",
       "      <td>0.0</td>\n",
       "      <td>117.1</td>\n",
       "      <td>1.1</td>\n",
       "      <td>Apr-13</td>\n",
       "      <td>119.7</td>\n",
       "      <td>Sep-13</td>\n",
       "      <td>0.0</td>\n",
       "    </tr>\n",
       "    <tr>\n",
       "      <th>2</th>\n",
       "      <td>1077175</td>\n",
       "      <td>1313524</td>\n",
       "      <td>2400</td>\n",
       "      <td>2400</td>\n",
       "      <td>2400.0</td>\n",
       "      <td>36</td>\n",
       "      <td>16.0</td>\n",
       "      <td>84.3</td>\n",
       "      <td>C</td>\n",
       "      <td>C5</td>\n",
       "      <td>10</td>\n",
       "      <td>RENT</td>\n",
       "      <td>12252.0</td>\n",
       "      <td>Not Verified</td>\n",
       "      <td>Dec-11</td>\n",
       "      <td>Fully Paid</td>\n",
       "      <td>small_business</td>\n",
       "      <td>real estate business</td>\n",
       "      <td>8.7</td>\n",
       "      <td>0</td>\n",
       "      <td>Nov-01</td>\n",
       "      <td>2</td>\n",
       "      <td>2</td>\n",
       "      <td>0</td>\n",
       "      <td>2956</td>\n",
       "      <td>98.5</td>\n",
       "      <td>10</td>\n",
       "      <td>0.0</td>\n",
       "      <td>0.0</td>\n",
       "      <td>3005.7</td>\n",
       "      <td>3005.7</td>\n",
       "      <td>2400.0</td>\n",
       "      <td>605.7</td>\n",
       "      <td>0.0</td>\n",
       "      <td>0.0</td>\n",
       "      <td>0.0</td>\n",
       "      <td>Jun-14</td>\n",
       "      <td>649.9</td>\n",
       "      <td>May-16</td>\n",
       "      <td>0.0</td>\n",
       "    </tr>\n",
       "    <tr>\n",
       "      <th>3</th>\n",
       "      <td>1076863</td>\n",
       "      <td>1277178</td>\n",
       "      <td>10000</td>\n",
       "      <td>10000</td>\n",
       "      <td>10000.0</td>\n",
       "      <td>36</td>\n",
       "      <td>13.5</td>\n",
       "      <td>339.3</td>\n",
       "      <td>C</td>\n",
       "      <td>C1</td>\n",
       "      <td>10</td>\n",
       "      <td>RENT</td>\n",
       "      <td>49200.0</td>\n",
       "      <td>Source Verified</td>\n",
       "      <td>Dec-11</td>\n",
       "      <td>Fully Paid</td>\n",
       "      <td>other</td>\n",
       "      <td>personel</td>\n",
       "      <td>20.0</td>\n",
       "      <td>0</td>\n",
       "      <td>Feb-96</td>\n",
       "      <td>1</td>\n",
       "      <td>10</td>\n",
       "      <td>0</td>\n",
       "      <td>5598</td>\n",
       "      <td>21.0</td>\n",
       "      <td>37</td>\n",
       "      <td>0.0</td>\n",
       "      <td>0.0</td>\n",
       "      <td>12231.9</td>\n",
       "      <td>12231.9</td>\n",
       "      <td>10000.0</td>\n",
       "      <td>2214.9</td>\n",
       "      <td>17.0</td>\n",
       "      <td>0.0</td>\n",
       "      <td>0.0</td>\n",
       "      <td>Jan-15</td>\n",
       "      <td>357.5</td>\n",
       "      <td>Apr-16</td>\n",
       "      <td>0.0</td>\n",
       "    </tr>\n",
       "    <tr>\n",
       "      <th>4</th>\n",
       "      <td>1075358</td>\n",
       "      <td>1311748</td>\n",
       "      <td>3000</td>\n",
       "      <td>3000</td>\n",
       "      <td>3000.0</td>\n",
       "      <td>60</td>\n",
       "      <td>12.7</td>\n",
       "      <td>67.8</td>\n",
       "      <td>B</td>\n",
       "      <td>B5</td>\n",
       "      <td>1</td>\n",
       "      <td>RENT</td>\n",
       "      <td>80000.0</td>\n",
       "      <td>Source Verified</td>\n",
       "      <td>Dec-11</td>\n",
       "      <td>Current</td>\n",
       "      <td>other</td>\n",
       "      <td>Personal</td>\n",
       "      <td>17.9</td>\n",
       "      <td>0</td>\n",
       "      <td>Jan-96</td>\n",
       "      <td>0</td>\n",
       "      <td>15</td>\n",
       "      <td>0</td>\n",
       "      <td>27783</td>\n",
       "      <td>53.9</td>\n",
       "      <td>38</td>\n",
       "      <td>524.1</td>\n",
       "      <td>524.1</td>\n",
       "      <td>3513.3</td>\n",
       "      <td>3513.3</td>\n",
       "      <td>2475.9</td>\n",
       "      <td>1037.4</td>\n",
       "      <td>0.0</td>\n",
       "      <td>0.0</td>\n",
       "      <td>0.0</td>\n",
       "      <td>May-16</td>\n",
       "      <td>67.8</td>\n",
       "      <td>May-16</td>\n",
       "      <td>0.0</td>\n",
       "    </tr>\n",
       "  </tbody>\n",
       "</table>\n",
       "</div>"
      ],
      "text/plain": [
       "        id  member_id  loan_amnt  funded_amnt  funded_amnt_inv  term  int_rate  installment grade sub_grade  emp_length home_ownership  annual_inc verification_status issue_d  loan_status         purpose                 title  dti  delinq_2yrs earliest_cr_line  inq_last_6mths  open_acc  pub_rec  revol_bal  revol_util  total_acc  out_prncp  out_prncp_inv  total_pymnt  total_pymnt_inv  total_rec_prncp  total_rec_int  total_rec_late_fee  recoveries  collection_recovery_fee last_pymnt_d  last_pymnt_amnt last_credit_pull_d  pub_rec_bankruptcies\n",
       "0  1077501    1296599       5000         5000           4975.0    36      10.7        162.9     B        B2          10           RENT     24000.0            Verified  Dec-11   Fully Paid     credit_card              Computer 27.6            0           Jan-85               1         3        0      13648        83.7          9        0.0            0.0       5863.2           5833.8           5000.0          863.2                 0.0         0.0                      0.0       Jan-15            171.6             May-16                   0.0\n",
       "1  1077430    1314167       2500         2500           2500.0    60      15.3         59.8     C        C4           1           RENT     30000.0     Source Verified  Dec-11  Charged Off             car                  bike  1.0            0           Apr-99               5         3        0       1687         9.4          4        0.0            0.0       1008.7           1008.7            456.5          435.2                 0.0       117.1                      1.1       Apr-13            119.7             Sep-13                   0.0\n",
       "2  1077175    1313524       2400         2400           2400.0    36      16.0         84.3     C        C5          10           RENT     12252.0        Not Verified  Dec-11   Fully Paid  small_business  real estate business  8.7            0           Nov-01               2         2        0       2956        98.5         10        0.0            0.0       3005.7           3005.7           2400.0          605.7                 0.0         0.0                      0.0       Jun-14            649.9             May-16                   0.0\n",
       "3  1076863    1277178      10000        10000          10000.0    36      13.5        339.3     C        C1          10           RENT     49200.0     Source Verified  Dec-11   Fully Paid           other              personel 20.0            0           Feb-96               1        10        0       5598        21.0         37        0.0            0.0      12231.9          12231.9          10000.0         2214.9                17.0         0.0                      0.0       Jan-15            357.5             Apr-16                   0.0\n",
       "4  1075358    1311748       3000         3000           3000.0    60      12.7         67.8     B        B5           1           RENT     80000.0     Source Verified  Dec-11      Current           other              Personal 17.9            0           Jan-96               0        15        0      27783        53.9         38      524.1          524.1       3513.3           3513.3           2475.9         1037.4                 0.0         0.0                      0.0       May-16             67.8             May-16                   0.0"
      ]
     },
     "execution_count": 138,
     "metadata": {},
     "output_type": "execute_result"
    }
   ],
   "source": [
    "loan.revol_util = loan.revol_util.fillna(loan.revol_util.mean())\n",
    "print(loan.revol_util.isnull().sum())\n",
    "loan.head()"
   ]
  },
  {
   "cell_type": "markdown",
   "metadata": {},
   "source": [
    "Missing Values in pub_rec_bankruptcies, since this could be a factor of negative impact on the credit score.\n",
    "\n",
    "So impute missing value in this case with 0.0\n"
   ]
  },
  {
   "cell_type": "code",
   "execution_count": 139,
   "metadata": {},
   "outputs": [
    {
     "name": "stdout",
     "output_type": "stream",
     "text": [
      "0\n",
      "(38642, 40)\n"
     ]
    },
    {
     "data": {
      "text/html": [
       "<div>\n",
       "<style scoped>\n",
       "    .dataframe tbody tr th:only-of-type {\n",
       "        vertical-align: middle;\n",
       "    }\n",
       "\n",
       "    .dataframe tbody tr th {\n",
       "        vertical-align: top;\n",
       "    }\n",
       "\n",
       "    .dataframe thead th {\n",
       "        text-align: right;\n",
       "    }\n",
       "</style>\n",
       "<table border=\"1\" class=\"dataframe\">\n",
       "  <thead>\n",
       "    <tr style=\"text-align: right;\">\n",
       "      <th></th>\n",
       "      <th>id</th>\n",
       "      <th>member_id</th>\n",
       "      <th>loan_amnt</th>\n",
       "      <th>funded_amnt</th>\n",
       "      <th>funded_amnt_inv</th>\n",
       "      <th>term</th>\n",
       "      <th>int_rate</th>\n",
       "      <th>installment</th>\n",
       "      <th>grade</th>\n",
       "      <th>sub_grade</th>\n",
       "      <th>emp_length</th>\n",
       "      <th>home_ownership</th>\n",
       "      <th>annual_inc</th>\n",
       "      <th>verification_status</th>\n",
       "      <th>issue_d</th>\n",
       "      <th>loan_status</th>\n",
       "      <th>purpose</th>\n",
       "      <th>title</th>\n",
       "      <th>dti</th>\n",
       "      <th>delinq_2yrs</th>\n",
       "      <th>earliest_cr_line</th>\n",
       "      <th>inq_last_6mths</th>\n",
       "      <th>open_acc</th>\n",
       "      <th>pub_rec</th>\n",
       "      <th>revol_bal</th>\n",
       "      <th>revol_util</th>\n",
       "      <th>total_acc</th>\n",
       "      <th>out_prncp</th>\n",
       "      <th>out_prncp_inv</th>\n",
       "      <th>total_pymnt</th>\n",
       "      <th>total_pymnt_inv</th>\n",
       "      <th>total_rec_prncp</th>\n",
       "      <th>total_rec_int</th>\n",
       "      <th>total_rec_late_fee</th>\n",
       "      <th>recoveries</th>\n",
       "      <th>collection_recovery_fee</th>\n",
       "      <th>last_pymnt_d</th>\n",
       "      <th>last_pymnt_amnt</th>\n",
       "      <th>last_credit_pull_d</th>\n",
       "      <th>pub_rec_bankruptcies</th>\n",
       "    </tr>\n",
       "  </thead>\n",
       "  <tbody>\n",
       "    <tr>\n",
       "      <th>0</th>\n",
       "      <td>1077501</td>\n",
       "      <td>1296599</td>\n",
       "      <td>5000</td>\n",
       "      <td>5000</td>\n",
       "      <td>4975.0</td>\n",
       "      <td>36</td>\n",
       "      <td>10.7</td>\n",
       "      <td>162.9</td>\n",
       "      <td>B</td>\n",
       "      <td>B2</td>\n",
       "      <td>10</td>\n",
       "      <td>RENT</td>\n",
       "      <td>24000.0</td>\n",
       "      <td>Verified</td>\n",
       "      <td>Dec-11</td>\n",
       "      <td>Fully Paid</td>\n",
       "      <td>credit_card</td>\n",
       "      <td>Computer</td>\n",
       "      <td>27.6</td>\n",
       "      <td>0</td>\n",
       "      <td>Jan-85</td>\n",
       "      <td>1</td>\n",
       "      <td>3</td>\n",
       "      <td>0</td>\n",
       "      <td>13648</td>\n",
       "      <td>83.7</td>\n",
       "      <td>9</td>\n",
       "      <td>0.0</td>\n",
       "      <td>0.0</td>\n",
       "      <td>5863.2</td>\n",
       "      <td>5833.8</td>\n",
       "      <td>5000.0</td>\n",
       "      <td>863.2</td>\n",
       "      <td>0.0</td>\n",
       "      <td>0.0</td>\n",
       "      <td>0.0</td>\n",
       "      <td>Jan-15</td>\n",
       "      <td>171.6</td>\n",
       "      <td>May-16</td>\n",
       "      <td>0.0</td>\n",
       "    </tr>\n",
       "    <tr>\n",
       "      <th>1</th>\n",
       "      <td>1077430</td>\n",
       "      <td>1314167</td>\n",
       "      <td>2500</td>\n",
       "      <td>2500</td>\n",
       "      <td>2500.0</td>\n",
       "      <td>60</td>\n",
       "      <td>15.3</td>\n",
       "      <td>59.8</td>\n",
       "      <td>C</td>\n",
       "      <td>C4</td>\n",
       "      <td>1</td>\n",
       "      <td>RENT</td>\n",
       "      <td>30000.0</td>\n",
       "      <td>Source Verified</td>\n",
       "      <td>Dec-11</td>\n",
       "      <td>Charged Off</td>\n",
       "      <td>car</td>\n",
       "      <td>bike</td>\n",
       "      <td>1.0</td>\n",
       "      <td>0</td>\n",
       "      <td>Apr-99</td>\n",
       "      <td>5</td>\n",
       "      <td>3</td>\n",
       "      <td>0</td>\n",
       "      <td>1687</td>\n",
       "      <td>9.4</td>\n",
       "      <td>4</td>\n",
       "      <td>0.0</td>\n",
       "      <td>0.0</td>\n",
       "      <td>1008.7</td>\n",
       "      <td>1008.7</td>\n",
       "      <td>456.5</td>\n",
       "      <td>435.2</td>\n",
       "      <td>0.0</td>\n",
       "      <td>117.1</td>\n",
       "      <td>1.1</td>\n",
       "      <td>Apr-13</td>\n",
       "      <td>119.7</td>\n",
       "      <td>Sep-13</td>\n",
       "      <td>0.0</td>\n",
       "    </tr>\n",
       "    <tr>\n",
       "      <th>2</th>\n",
       "      <td>1077175</td>\n",
       "      <td>1313524</td>\n",
       "      <td>2400</td>\n",
       "      <td>2400</td>\n",
       "      <td>2400.0</td>\n",
       "      <td>36</td>\n",
       "      <td>16.0</td>\n",
       "      <td>84.3</td>\n",
       "      <td>C</td>\n",
       "      <td>C5</td>\n",
       "      <td>10</td>\n",
       "      <td>RENT</td>\n",
       "      <td>12252.0</td>\n",
       "      <td>Not Verified</td>\n",
       "      <td>Dec-11</td>\n",
       "      <td>Fully Paid</td>\n",
       "      <td>small_business</td>\n",
       "      <td>real estate business</td>\n",
       "      <td>8.7</td>\n",
       "      <td>0</td>\n",
       "      <td>Nov-01</td>\n",
       "      <td>2</td>\n",
       "      <td>2</td>\n",
       "      <td>0</td>\n",
       "      <td>2956</td>\n",
       "      <td>98.5</td>\n",
       "      <td>10</td>\n",
       "      <td>0.0</td>\n",
       "      <td>0.0</td>\n",
       "      <td>3005.7</td>\n",
       "      <td>3005.7</td>\n",
       "      <td>2400.0</td>\n",
       "      <td>605.7</td>\n",
       "      <td>0.0</td>\n",
       "      <td>0.0</td>\n",
       "      <td>0.0</td>\n",
       "      <td>Jun-14</td>\n",
       "      <td>649.9</td>\n",
       "      <td>May-16</td>\n",
       "      <td>0.0</td>\n",
       "    </tr>\n",
       "    <tr>\n",
       "      <th>3</th>\n",
       "      <td>1076863</td>\n",
       "      <td>1277178</td>\n",
       "      <td>10000</td>\n",
       "      <td>10000</td>\n",
       "      <td>10000.0</td>\n",
       "      <td>36</td>\n",
       "      <td>13.5</td>\n",
       "      <td>339.3</td>\n",
       "      <td>C</td>\n",
       "      <td>C1</td>\n",
       "      <td>10</td>\n",
       "      <td>RENT</td>\n",
       "      <td>49200.0</td>\n",
       "      <td>Source Verified</td>\n",
       "      <td>Dec-11</td>\n",
       "      <td>Fully Paid</td>\n",
       "      <td>other</td>\n",
       "      <td>personel</td>\n",
       "      <td>20.0</td>\n",
       "      <td>0</td>\n",
       "      <td>Feb-96</td>\n",
       "      <td>1</td>\n",
       "      <td>10</td>\n",
       "      <td>0</td>\n",
       "      <td>5598</td>\n",
       "      <td>21.0</td>\n",
       "      <td>37</td>\n",
       "      <td>0.0</td>\n",
       "      <td>0.0</td>\n",
       "      <td>12231.9</td>\n",
       "      <td>12231.9</td>\n",
       "      <td>10000.0</td>\n",
       "      <td>2214.9</td>\n",
       "      <td>17.0</td>\n",
       "      <td>0.0</td>\n",
       "      <td>0.0</td>\n",
       "      <td>Jan-15</td>\n",
       "      <td>357.5</td>\n",
       "      <td>Apr-16</td>\n",
       "      <td>0.0</td>\n",
       "    </tr>\n",
       "    <tr>\n",
       "      <th>4</th>\n",
       "      <td>1075358</td>\n",
       "      <td>1311748</td>\n",
       "      <td>3000</td>\n",
       "      <td>3000</td>\n",
       "      <td>3000.0</td>\n",
       "      <td>60</td>\n",
       "      <td>12.7</td>\n",
       "      <td>67.8</td>\n",
       "      <td>B</td>\n",
       "      <td>B5</td>\n",
       "      <td>1</td>\n",
       "      <td>RENT</td>\n",
       "      <td>80000.0</td>\n",
       "      <td>Source Verified</td>\n",
       "      <td>Dec-11</td>\n",
       "      <td>Current</td>\n",
       "      <td>other</td>\n",
       "      <td>Personal</td>\n",
       "      <td>17.9</td>\n",
       "      <td>0</td>\n",
       "      <td>Jan-96</td>\n",
       "      <td>0</td>\n",
       "      <td>15</td>\n",
       "      <td>0</td>\n",
       "      <td>27783</td>\n",
       "      <td>53.9</td>\n",
       "      <td>38</td>\n",
       "      <td>524.1</td>\n",
       "      <td>524.1</td>\n",
       "      <td>3513.3</td>\n",
       "      <td>3513.3</td>\n",
       "      <td>2475.9</td>\n",
       "      <td>1037.4</td>\n",
       "      <td>0.0</td>\n",
       "      <td>0.0</td>\n",
       "      <td>0.0</td>\n",
       "      <td>May-16</td>\n",
       "      <td>67.8</td>\n",
       "      <td>May-16</td>\n",
       "      <td>0.0</td>\n",
       "    </tr>\n",
       "  </tbody>\n",
       "</table>\n",
       "</div>"
      ],
      "text/plain": [
       "        id  member_id  loan_amnt  funded_amnt  funded_amnt_inv  term  int_rate  installment grade sub_grade  emp_length home_ownership  annual_inc verification_status issue_d  loan_status         purpose                 title  dti  delinq_2yrs earliest_cr_line  inq_last_6mths  open_acc  pub_rec  revol_bal  revol_util  total_acc  out_prncp  out_prncp_inv  total_pymnt  total_pymnt_inv  total_rec_prncp  total_rec_int  total_rec_late_fee  recoveries  collection_recovery_fee last_pymnt_d  last_pymnt_amnt last_credit_pull_d  pub_rec_bankruptcies\n",
       "0  1077501    1296599       5000         5000           4975.0    36      10.7        162.9     B        B2          10           RENT     24000.0            Verified  Dec-11   Fully Paid     credit_card              Computer 27.6            0           Jan-85               1         3        0      13648        83.7          9        0.0            0.0       5863.2           5833.8           5000.0          863.2                 0.0         0.0                      0.0       Jan-15            171.6             May-16                   0.0\n",
       "1  1077430    1314167       2500         2500           2500.0    60      15.3         59.8     C        C4           1           RENT     30000.0     Source Verified  Dec-11  Charged Off             car                  bike  1.0            0           Apr-99               5         3        0       1687         9.4          4        0.0            0.0       1008.7           1008.7            456.5          435.2                 0.0       117.1                      1.1       Apr-13            119.7             Sep-13                   0.0\n",
       "2  1077175    1313524       2400         2400           2400.0    36      16.0         84.3     C        C5          10           RENT     12252.0        Not Verified  Dec-11   Fully Paid  small_business  real estate business  8.7            0           Nov-01               2         2        0       2956        98.5         10        0.0            0.0       3005.7           3005.7           2400.0          605.7                 0.0         0.0                      0.0       Jun-14            649.9             May-16                   0.0\n",
       "3  1076863    1277178      10000        10000          10000.0    36      13.5        339.3     C        C1          10           RENT     49200.0     Source Verified  Dec-11   Fully Paid           other              personel 20.0            0           Feb-96               1        10        0       5598        21.0         37        0.0            0.0      12231.9          12231.9          10000.0         2214.9                17.0         0.0                      0.0       Jan-15            357.5             Apr-16                   0.0\n",
       "4  1075358    1311748       3000         3000           3000.0    60      12.7         67.8     B        B5           1           RENT     80000.0     Source Verified  Dec-11      Current           other              Personal 17.9            0           Jan-96               0        15        0      27783        53.9         38      524.1          524.1       3513.3           3513.3           2475.9         1037.4                 0.0         0.0                      0.0       May-16             67.8             May-16                   0.0"
      ]
     },
     "execution_count": 139,
     "metadata": {},
     "output_type": "execute_result"
    }
   ],
   "source": [
    "loan.pub_rec_bankruptcies = loan.pub_rec_bankruptcies.fillna(loan.revol_util.min())\n",
    "print(loan.pub_rec_bankruptcies.isnull().sum())\n",
    "print(loan.shape)\n",
    "loan.head()"
   ]
  },
  {
   "cell_type": "markdown",
   "metadata": {},
   "source": [
    "## Part: 3 Data Analysis\n",
    "\n",
    "We have a refined dataset, Now lets start analysis on different set of variables"
   ]
  },
  {
   "cell_type": "markdown",
   "metadata": {},
   "source": [
    "### Univariate Variable Analysis\n",
    "\n",
    "Categorical Variable: loan_status, purpose, verification_status, home_ownership, title\n",
    "    \n",
    "Numerical Variable: All other columns except(Date type object)\n",
    "\n",
    "#### Target Variable for this analysis as per our buisness objective : loan_status  \n",
    "    : loan_status is our target variable as this column can clearly define the user sets for Defaulter and non-defaulter\n",
    "\n",
    "So lets start Univariate analysis with target variable: loan_status"
   ]
  },
  {
   "cell_type": "code",
   "execution_count": 140,
   "metadata": {},
   "outputs": [
    {
     "name": "stdout",
     "output_type": "stream",
     "text": [
      "Fully Paid     32145\n",
      "Charged Off     5399\n",
      "Current         1098\n",
      "Name: loan_status, dtype: int64\n"
     ]
    },
    {
     "data": {
      "text/plain": [
       "<matplotlib.axes._subplots.AxesSubplot at 0x19625db4e80>"
      ]
     },
     "execution_count": 140,
     "metadata": {},
     "output_type": "execute_result"
    },
    {
     "data": {
      "image/png": "[encoded data removed]",
      "text/plain": [
       "<Figure size 432x288 with 1 Axes>"
      ]
     },
     "metadata": {
      "needs_background": "light"
     },
     "output_type": "display_data"
    }
   ],
   "source": [
    "# Lets see the value distribution of loan_status\n",
    "\n",
    "print(loan.loan_status.value_counts())\n",
    "loan.loan_status.value_counts().plot.bar()\n"
   ]
  },
  {
   "cell_type": "code",
   "execution_count": 141,
   "metadata": {},
   "outputs": [
    {
     "name": "stdout",
     "output_type": "stream",
     "text": [
      "Fully Paid     32145\n",
      "Charged Off     5399\n",
      "Name: loan_status, dtype: int64\n"
     ]
    },
    {
     "data": {
      "text/html": [
       "<div>\n",
       "<style scoped>\n",
       "    .dataframe tbody tr th:only-of-type {\n",
       "        vertical-align: middle;\n",
       "    }\n",
       "\n",
       "    .dataframe tbody tr th {\n",
       "        vertical-align: top;\n",
       "    }\n",
       "\n",
       "    .dataframe thead th {\n",
       "        text-align: right;\n",
       "    }\n",
       "</style>\n",
       "<table border=\"1\" class=\"dataframe\">\n",
       "  <thead>\n",
       "    <tr style=\"text-align: right;\">\n",
       "      <th></th>\n",
       "      <th>id</th>\n",
       "      <th>member_id</th>\n",
       "      <th>loan_amnt</th>\n",
       "      <th>funded_amnt</th>\n",
       "      <th>funded_amnt_inv</th>\n",
       "      <th>term</th>\n",
       "      <th>int_rate</th>\n",
       "      <th>installment</th>\n",
       "      <th>grade</th>\n",
       "      <th>sub_grade</th>\n",
       "      <th>emp_length</th>\n",
       "      <th>home_ownership</th>\n",
       "      <th>annual_inc</th>\n",
       "      <th>verification_status</th>\n",
       "      <th>issue_d</th>\n",
       "      <th>loan_status</th>\n",
       "      <th>purpose</th>\n",
       "      <th>title</th>\n",
       "      <th>dti</th>\n",
       "      <th>delinq_2yrs</th>\n",
       "      <th>earliest_cr_line</th>\n",
       "      <th>inq_last_6mths</th>\n",
       "      <th>open_acc</th>\n",
       "      <th>pub_rec</th>\n",
       "      <th>revol_bal</th>\n",
       "      <th>revol_util</th>\n",
       "      <th>total_acc</th>\n",
       "      <th>out_prncp</th>\n",
       "      <th>out_prncp_inv</th>\n",
       "      <th>total_pymnt</th>\n",
       "      <th>total_pymnt_inv</th>\n",
       "      <th>total_rec_prncp</th>\n",
       "      <th>total_rec_int</th>\n",
       "      <th>total_rec_late_fee</th>\n",
       "      <th>recoveries</th>\n",
       "      <th>collection_recovery_fee</th>\n",
       "      <th>last_pymnt_d</th>\n",
       "      <th>last_pymnt_amnt</th>\n",
       "      <th>last_credit_pull_d</th>\n",
       "      <th>pub_rec_bankruptcies</th>\n",
       "      <th>loan_status_qnt</th>\n",
       "    </tr>\n",
       "  </thead>\n",
       "  <tbody>\n",
       "    <tr>\n",
       "      <th>0</th>\n",
       "      <td>1077501</td>\n",
       "      <td>1296599</td>\n",
       "      <td>5000</td>\n",
       "      <td>5000</td>\n",
       "      <td>4975.0</td>\n",
       "      <td>36</td>\n",
       "      <td>10.7</td>\n",
       "      <td>162.9</td>\n",
       "      <td>B</td>\n",
       "      <td>B2</td>\n",
       "      <td>10</td>\n",
       "      <td>RENT</td>\n",
       "      <td>24000.0</td>\n",
       "      <td>Verified</td>\n",
       "      <td>Dec-11</td>\n",
       "      <td>Fully Paid</td>\n",
       "      <td>credit_card</td>\n",
       "      <td>Computer</td>\n",
       "      <td>27.6</td>\n",
       "      <td>0</td>\n",
       "      <td>Jan-85</td>\n",
       "      <td>1</td>\n",
       "      <td>3</td>\n",
       "      <td>0</td>\n",
       "      <td>13648</td>\n",
       "      <td>83.7</td>\n",
       "      <td>9</td>\n",
       "      <td>0.0</td>\n",
       "      <td>0.0</td>\n",
       "      <td>5863.2</td>\n",
       "      <td>5833.8</td>\n",
       "      <td>5000.0</td>\n",
       "      <td>863.2</td>\n",
       "      <td>0.0</td>\n",
       "      <td>0.0</td>\n",
       "      <td>0.0</td>\n",
       "      <td>Jan-15</td>\n",
       "      <td>171.6</td>\n",
       "      <td>May-16</td>\n",
       "      <td>0.0</td>\n",
       "      <td>0</td>\n",
       "    </tr>\n",
       "    <tr>\n",
       "      <th>1</th>\n",
       "      <td>1077430</td>\n",
       "      <td>1314167</td>\n",
       "      <td>2500</td>\n",
       "      <td>2500</td>\n",
       "      <td>2500.0</td>\n",
       "      <td>60</td>\n",
       "      <td>15.3</td>\n",
       "      <td>59.8</td>\n",
       "      <td>C</td>\n",
       "      <td>C4</td>\n",
       "      <td>1</td>\n",
       "      <td>RENT</td>\n",
       "      <td>30000.0</td>\n",
       "      <td>Source Verified</td>\n",
       "      <td>Dec-11</td>\n",
       "      <td>Charged Off</td>\n",
       "      <td>car</td>\n",
       "      <td>bike</td>\n",
       "      <td>1.0</td>\n",
       "      <td>0</td>\n",
       "      <td>Apr-99</td>\n",
       "      <td>5</td>\n",
       "      <td>3</td>\n",
       "      <td>0</td>\n",
       "      <td>1687</td>\n",
       "      <td>9.4</td>\n",
       "      <td>4</td>\n",
       "      <td>0.0</td>\n",
       "      <td>0.0</td>\n",
       "      <td>1008.7</td>\n",
       "      <td>1008.7</td>\n",
       "      <td>456.5</td>\n",
       "      <td>435.2</td>\n",
       "      <td>0.0</td>\n",
       "      <td>117.1</td>\n",
       "      <td>1.1</td>\n",
       "      <td>Apr-13</td>\n",
       "      <td>119.7</td>\n",
       "      <td>Sep-13</td>\n",
       "      <td>0.0</td>\n",
       "      <td>1</td>\n",
       "    </tr>\n",
       "    <tr>\n",
       "      <th>2</th>\n",
       "      <td>1077175</td>\n",
       "      <td>1313524</td>\n",
       "      <td>2400</td>\n",
       "      <td>2400</td>\n",
       "      <td>2400.0</td>\n",
       "      <td>36</td>\n",
       "      <td>16.0</td>\n",
       "      <td>84.3</td>\n",
       "      <td>C</td>\n",
       "      <td>C5</td>\n",
       "      <td>10</td>\n",
       "      <td>RENT</td>\n",
       "      <td>12252.0</td>\n",
       "      <td>Not Verified</td>\n",
       "      <td>Dec-11</td>\n",
       "      <td>Fully Paid</td>\n",
       "      <td>small_business</td>\n",
       "      <td>real estate business</td>\n",
       "      <td>8.7</td>\n",
       "      <td>0</td>\n",
       "      <td>Nov-01</td>\n",
       "      <td>2</td>\n",
       "      <td>2</td>\n",
       "      <td>0</td>\n",
       "      <td>2956</td>\n",
       "      <td>98.5</td>\n",
       "      <td>10</td>\n",
       "      <td>0.0</td>\n",
       "      <td>0.0</td>\n",
       "      <td>3005.7</td>\n",
       "      <td>3005.7</td>\n",
       "      <td>2400.0</td>\n",
       "      <td>605.7</td>\n",
       "      <td>0.0</td>\n",
       "      <td>0.0</td>\n",
       "      <td>0.0</td>\n",
       "      <td>Jun-14</td>\n",
       "      <td>649.9</td>\n",
       "      <td>May-16</td>\n",
       "      <td>0.0</td>\n",
       "      <td>0</td>\n",
       "    </tr>\n",
       "    <tr>\n",
       "      <th>3</th>\n",
       "      <td>1076863</td>\n",
       "      <td>1277178</td>\n",
       "      <td>10000</td>\n",
       "      <td>10000</td>\n",
       "      <td>10000.0</td>\n",
       "      <td>36</td>\n",
       "      <td>13.5</td>\n",
       "      <td>339.3</td>\n",
       "      <td>C</td>\n",
       "      <td>C1</td>\n",
       "      <td>10</td>\n",
       "      <td>RENT</td>\n",
       "      <td>49200.0</td>\n",
       "      <td>Source Verified</td>\n",
       "      <td>Dec-11</td>\n",
       "      <td>Fully Paid</td>\n",
       "      <td>other</td>\n",
       "      <td>personel</td>\n",
       "      <td>20.0</td>\n",
       "      <td>0</td>\n",
       "      <td>Feb-96</td>\n",
       "      <td>1</td>\n",
       "      <td>10</td>\n",
       "      <td>0</td>\n",
       "      <td>5598</td>\n",
       "      <td>21.0</td>\n",
       "      <td>37</td>\n",
       "      <td>0.0</td>\n",
       "      <td>0.0</td>\n",
       "      <td>12231.9</td>\n",
       "      <td>12231.9</td>\n",
       "      <td>10000.0</td>\n",
       "      <td>2214.9</td>\n",
       "      <td>17.0</td>\n",
       "      <td>0.0</td>\n",
       "      <td>0.0</td>\n",
       "      <td>Jan-15</td>\n",
       "      <td>357.5</td>\n",
       "      <td>Apr-16</td>\n",
       "      <td>0.0</td>\n",
       "      <td>0</td>\n",
       "    </tr>\n",
       "    <tr>\n",
       "      <th>4</th>\n",
       "      <td>1075358</td>\n",
       "      <td>1311748</td>\n",
       "      <td>3000</td>\n",
       "      <td>3000</td>\n",
       "      <td>3000.0</td>\n",
       "      <td>60</td>\n",
       "      <td>12.7</td>\n",
       "      <td>67.8</td>\n",
       "      <td>B</td>\n",
       "      <td>B5</td>\n",
       "      <td>1</td>\n",
       "      <td>RENT</td>\n",
       "      <td>80000.0</td>\n",
       "      <td>Source Verified</td>\n",
       "      <td>Dec-11</td>\n",
       "      <td>NaN</td>\n",
       "      <td>other</td>\n",
       "      <td>Personal</td>\n",
       "      <td>17.9</td>\n",
       "      <td>0</td>\n",
       "      <td>Jan-96</td>\n",
       "      <td>0</td>\n",
       "      <td>15</td>\n",
       "      <td>0</td>\n",
       "      <td>27783</td>\n",
       "      <td>53.9</td>\n",
       "      <td>38</td>\n",
       "      <td>524.1</td>\n",
       "      <td>524.1</td>\n",
       "      <td>3513.3</td>\n",
       "      <td>3513.3</td>\n",
       "      <td>2475.9</td>\n",
       "      <td>1037.4</td>\n",
       "      <td>0.0</td>\n",
       "      <td>0.0</td>\n",
       "      <td>0.0</td>\n",
       "      <td>May-16</td>\n",
       "      <td>67.8</td>\n",
       "      <td>May-16</td>\n",
       "      <td>0.0</td>\n",
       "      <td>0</td>\n",
       "    </tr>\n",
       "  </tbody>\n",
       "</table>\n",
       "</div>"
      ],
      "text/plain": [
       "        id  member_id  loan_amnt  funded_amnt  funded_amnt_inv  term  int_rate  installment grade sub_grade  emp_length home_ownership  annual_inc verification_status issue_d  loan_status         purpose                 title  dti  delinq_2yrs earliest_cr_line  inq_last_6mths  open_acc  pub_rec  revol_bal  revol_util  total_acc  out_prncp  out_prncp_inv  total_pymnt  total_pymnt_inv  total_rec_prncp  total_rec_int  total_rec_late_fee  recoveries  collection_recovery_fee last_pymnt_d  last_pymnt_amnt last_credit_pull_d  pub_rec_bankruptcies  loan_status_qnt\n",
       "0  1077501    1296599       5000         5000           4975.0    36      10.7        162.9     B        B2          10           RENT     24000.0            Verified  Dec-11   Fully Paid     credit_card              Computer 27.6            0           Jan-85               1         3        0      13648        83.7          9        0.0            0.0       5863.2           5833.8           5000.0          863.2                 0.0         0.0                      0.0       Jan-15            171.6             May-16                   0.0                0\n",
       "1  1077430    1314167       2500         2500           2500.0    60      15.3         59.8     C        C4           1           RENT     30000.0     Source Verified  Dec-11  Charged Off             car                  bike  1.0            0           Apr-99               5         3        0       1687         9.4          4        0.0            0.0       1008.7           1008.7            456.5          435.2                 0.0       117.1                      1.1       Apr-13            119.7             Sep-13                   0.0                1\n",
       "2  1077175    1313524       2400         2400           2400.0    36      16.0         84.3     C        C5          10           RENT     12252.0        Not Verified  Dec-11   Fully Paid  small_business  real estate business  8.7            0           Nov-01               2         2        0       2956        98.5         10        0.0            0.0       3005.7           3005.7           2400.0          605.7                 0.0         0.0                      0.0       Jun-14            649.9             May-16                   0.0                0\n",
       "3  1076863    1277178      10000        10000          10000.0    36      13.5        339.3     C        C1          10           RENT     49200.0     Source Verified  Dec-11   Fully Paid           other              personel 20.0            0           Feb-96               1        10        0       5598        21.0         37        0.0            0.0      12231.9          12231.9          10000.0         2214.9                17.0         0.0                      0.0       Jan-15            357.5             Apr-16                   0.0                0\n",
       "4  1075358    1311748       3000         3000           3000.0    60      12.7         67.8     B        B5           1           RENT     80000.0     Source Verified  Dec-11          NaN           other              Personal 17.9            0           Jan-96               0        15        0      27783        53.9         38      524.1          524.1       3513.3           3513.3           2475.9         1037.4                 0.0         0.0                      0.0       May-16             67.8             May-16                   0.0                0"
      ]
     },
     "execution_count": 141,
     "metadata": {},
     "output_type": "execute_result"
    }
   ],
   "source": [
    "# Lets Drop the rows with current values as running loans doesn't indicate about defaulter or non-defaulter.\n",
    "# ALso lets derive a new column [loan_status_qnt] out of loan_status as numerical column to perform a quantitative analysis.\n",
    "\n",
    "loan.loan_status = loan.loan_status[~loan.loan_status.isin(['Current'])]\n",
    "print(loan.loan_status.value_counts())\n",
    "\n",
    "loan['loan_status_qnt'] = loan.loan_status.apply(lambda x:1 if x=='Charged Off' else 0)\n",
    "loan.head()"
   ]
  },
  {
   "cell_type": "markdown",
   "metadata": {},
   "source": [
    "### Define common function bivarite analysis"
   ]
  },
  {
   "cell_type": "code",
   "execution_count": 142,
   "metadata": {},
   "outputs": [],
   "source": [
    "def percentage_estimator(x):\n",
    "    return sum(x)*100.0/len(x)\n",
    "\n",
    "def bivariate_analysis(df, x, label_rotation=0):\n",
    "    bar = sns.barplot(x=x, y='loan_status_qnt', data=df, estimator=percentage_estimator)\n",
    "    bar.set_xticklabels(bar.get_xticklabels(), rotation=label_rotation, horizontalalignment='center')\n",
    "    plt.plot()\n",
    "    \n",
    "def bivariate_analysis_count(df, x, label_rotation=0):\n",
    "    bar = sns.barplot(x=x, y='loan_status_qnt', data=df, estimator=sum)\n",
    "    bar.set_xticklabels(bar.get_xticklabels(), rotation=label_rotation, horizontalalignment='center')\n",
    "    plt.plot()"
   ]
  },
  {
   "cell_type": "markdown",
   "metadata": {},
   "source": [
    "## Analying bivarite analysis between different variables in target column loan_status_qnt"
   ]
  },
  {
   "cell_type": "markdown",
   "metadata": {},
   "source": [
    "### Term vs loan charged off rate"
   ]
  },
  {
   "cell_type": "code",
   "execution_count": 143,
   "metadata": {},
   "outputs": [
    {
     "data": {
      "image/png": "[encoded data removed]",
      "text/plain": [
       "<Figure size 432x288 with 1 Axes>"
      ]
     },
     "metadata": {
      "needs_background": "light"
     },
     "output_type": "display_data"
    }
   ],
   "source": [
    "bivariate_analysis(loan, 'term')"
   ]
  },
  {
   "cell_type": "markdown",
   "metadata": {},
   "source": [
    "### When compared with charged off rate higher term has major impact > 20% charged off rate "
   ]
  },
  {
   "cell_type": "markdown",
   "metadata": {},
   "source": [
    "### home ownership vs loan charged off rate"
   ]
  },
  {
   "cell_type": "code",
   "execution_count": 144,
   "metadata": {},
   "outputs": [
    {
     "data": {
      "image/png": "[encoded data removed]",
      "text/plain": [
       "<Figure size 432x288 with 1 Axes>"
      ]
     },
     "metadata": {
      "needs_background": "light"
     },
     "output_type": "display_data"
    }
   ],
   "source": [
    "bivariate_analysis(loan, 'home_ownership')"
   ]
  },
  {
   "cell_type": "markdown",
   "metadata": {},
   "source": [
    "### home ownership does not have any impact on charged off rate"
   ]
  },
  {
   "cell_type": "markdown",
   "metadata": {},
   "source": [
    "### employment term vs loan charged off rate"
   ]
  },
  {
   "cell_type": "code",
   "execution_count": 145,
   "metadata": {},
   "outputs": [
    {
     "data": {
      "image/png": "[encoded data removed]",
      "text/plain": [
       "<Figure size 432x288 with 1 Axes>"
      ]
     },
     "metadata": {
      "needs_background": "light"
     },
     "output_type": "display_data"
    }
   ],
   "source": [
    "bivariate_analysis(loan, 'emp_length')"
   ]
  },
  {
   "cell_type": "markdown",
   "metadata": {},
   "source": [
    "### employment term does not have any impact on charged off rate"
   ]
  },
  {
   "cell_type": "markdown",
   "metadata": {},
   "source": [
    "### Purpose of loan vs loan charged off rate"
   ]
  },
  {
   "cell_type": "code",
   "execution_count": 146,
   "metadata": {},
   "outputs": [
    {
     "data": {
      "image/png": "[encoded data removed]",
      "text/plain": [
       "<Figure size 432x288 with 1 Axes>"
      ]
     },
     "metadata": {
      "needs_background": "light"
     },
     "output_type": "display_data"
    }
   ],
   "source": [
    "bivariate_analysis(loan, 'purpose', label_rotation=90)"
   ]
  },
  {
   "cell_type": "markdown",
   "metadata": {},
   "source": [
    "### Charged off or loan default rate is higher when load is taken for small business "
   ]
  },
  {
   "cell_type": "markdown",
   "metadata": {},
   "source": [
    "### Check interest rate vs loan charged off rate"
   ]
  },
  {
   "cell_type": "code",
   "execution_count": 147,
   "metadata": {},
   "outputs": [],
   "source": [
    "# Convert interest rate to bins\n",
    "\n",
    "int_rate_labels = ['0-5%', '5-10%', '10-15%', '15-20%', '>20%']\n",
    "int_rate_bins = [0, 5, 10, 15, 20, 100]\n",
    "loan['int_rate_bin'] = pd.cut(loan['int_rate'], bins=int_rate_bins, labels=int_rate_labels)"
   ]
  },
  {
   "cell_type": "code",
   "execution_count": 148,
   "metadata": {},
   "outputs": [
    {
     "data": {
      "image/png": "[encoded data removed]",
      "text/plain": [
       "<Figure size 432x288 with 1 Axes>"
      ]
     },
     "metadata": {
      "needs_background": "light"
     },
     "output_type": "display_data"
    }
   ],
   "source": [
    "bivariate_analysis(loan, 'int_rate_bin', label_rotation=40)"
   ]
  },
  {
   "cell_type": "markdown",
   "metadata": {},
   "source": [
    "### Charged off or loan default rate increases as rate of interest goes up"
   ]
  },
  {
   "cell_type": "markdown",
   "metadata": {},
   "source": [
    "###  grade vs loan charged off rate"
   ]
  },
  {
   "cell_type": "code",
   "execution_count": 149,
   "metadata": {
    "scrolled": true
   },
   "outputs": [
    {
     "data": {
      "image/png": "[encoded data removed]",
      "text/plain": [
       "<Figure size 432x288 with 1 Axes>"
      ]
     },
     "metadata": {
      "needs_background": "light"
     },
     "output_type": "display_data"
    }
   ],
   "source": [
    "bivariate_analysis(loan, 'grade')"
   ]
  },
  {
   "cell_type": "markdown",
   "metadata": {},
   "source": [
    "### As garde is lowered charged off or load default rate goes up significantly"
   ]
  },
  {
   "cell_type": "code",
   "execution_count": 150,
   "metadata": {},
   "outputs": [
    {
     "data": {
      "image/png": "[encoded data removed]",
      "text/plain": [
       "<Figure size 432x288 with 1 Axes>"
      ]
     },
     "metadata": {
      "needs_background": "light"
     },
     "output_type": "display_data"
    }
   ],
   "source": [
    "bivariate_analysis(loan, 'sub_grade', label_rotation=90)"
   ]
  },
  {
   "cell_type": "markdown",
   "metadata": {},
   "source": [
    "### Loan amount vs loan default rate"
   ]
  },
  {
   "cell_type": "code",
   "execution_count": 151,
   "metadata": {},
   "outputs": [],
   "source": [
    "# Put laan amount in bins\n",
    "loan['loan_amnt_bins'] = pd.cut(loan['loan_amnt'], bins=np.linspace(0, 50000, 11))"
   ]
  },
  {
   "cell_type": "code",
   "execution_count": 152,
   "metadata": {},
   "outputs": [
    {
     "data": {
      "image/png": "[encoded data removed]",
      "text/plain": [
       "<Figure size 432x288 with 1 Axes>"
      ]
     },
     "metadata": {
      "needs_background": "light"
     },
     "output_type": "display_data"
    }
   ],
   "source": [
    "bivariate_analysis(loan, 'loan_amnt_bins', label_rotation=40)"
   ]
  },
  {
   "cell_type": "code",
   "execution_count": 153,
   "metadata": {},
   "outputs": [
    {
     "data": {
      "image/png": "[encoded data removed]",
      "text/plain": [
       "<Figure size 432x288 with 1 Axes>"
      ]
     },
     "metadata": {
      "needs_background": "light"
     },
     "output_type": "display_data"
    }
   ],
   "source": [
    "bivariate_analysis_count(loan, 'loan_amnt_bins', label_rotation=40)"
   ]
  },
  {
   "cell_type": "markdown",
   "metadata": {},
   "source": [
    "### When loan amount is increases laon default rate also goes up somewhat, but number of loans with higher amount is also less to reach any conclusion "
   ]
  },
  {
   "cell_type": "code",
   "execution_count": 154,
   "metadata": {},
   "outputs": [
    {
     "data": {
      "image/png": "[encoded data removed]",
      "text/plain": [
       "<Figure size 432x288 with 1 Axes>"
      ]
     },
     "metadata": {
      "needs_background": "light"
     },
     "output_type": "display_data"
    }
   ],
   "source": [
    "bivariate_analysis(loan, 'verification_status')"
   ]
  },
  {
   "cell_type": "markdown",
   "metadata": {},
   "source": [
    "### Analyze DTI"
   ]
  },
  {
   "cell_type": "code",
   "execution_count": 155,
   "metadata": {},
   "outputs": [
    {
     "data": {
      "text/plain": [
       "count   38642.0\n",
       "mean       13.3\n",
       "std         6.7\n",
       "min         0.0\n",
       "25%         8.2\n",
       "50%        13.4\n",
       "75%        18.6\n",
       "max        30.0\n",
       "Name: dti, dtype: float64"
      ]
     },
     "execution_count": 155,
     "metadata": {},
     "output_type": "execute_result"
    }
   ],
   "source": [
    "# Put DTI In bins\n",
    "loan.dti.describe()"
   ]
  },
  {
   "cell_type": "code",
   "execution_count": 156,
   "metadata": {},
   "outputs": [],
   "source": [
    "loan['dti_bins'] = pd.cut(loan['dti'], bins=np.linspace(0, 30, 11))"
   ]
  },
  {
   "cell_type": "code",
   "execution_count": 157,
   "metadata": {},
   "outputs": [
    {
     "data": {
      "image/png": "[encoded data removed]",
      "text/plain": [
       "<Figure size 432x288 with 1 Axes>"
      ]
     },
     "metadata": {
      "needs_background": "light"
     },
     "output_type": "display_data"
    }
   ],
   "source": [
    "bivariate_analysis(loan, 'dti_bins', label_rotation=90)"
   ]
  },
  {
   "cell_type": "code",
   "execution_count": 158,
   "metadata": {},
   "outputs": [
    {
     "data": {
      "image/png": "[encoded data removed]",
      "text/plain": [
       "<Figure size 432x288 with 1 Axes>"
      ]
     },
     "metadata": {
      "needs_background": "light"
     },
     "output_type": "display_data"
    }
   ],
   "source": [
    "bivariate_analysis_count(loan, 'dti_bins', label_rotation=90)"
   ]
  },
  {
   "cell_type": "markdown",
   "metadata": {},
   "source": [
    "### With increase in DTI loan default rate seems to go up till 24 and it decreses thereafter"
   ]
  },
  {
   "cell_type": "markdown",
   "metadata": {},
   "source": [
    "### Analyse Income"
   ]
  },
  {
   "cell_type": "code",
   "execution_count": 159,
   "metadata": {},
   "outputs": [
    {
     "data": {
      "text/plain": [
       "count     38642.0\n",
       "mean      69608.3\n",
       "std       64253.2\n",
       "min        4000.0\n",
       "25%       41400.0\n",
       "50%       60000.0\n",
       "75%       83200.0\n",
       "max     6000000.0\n",
       "Name: annual_inc, dtype: float64"
      ]
     },
     "execution_count": 159,
     "metadata": {},
     "output_type": "execute_result"
    }
   ],
   "source": [
    "loan.annual_inc.describe()"
   ]
  },
  {
   "cell_type": "code",
   "execution_count": 160,
   "metadata": {},
   "outputs": [
    {
     "data": {
      "text/plain": [
       "117000.0"
      ]
     },
     "execution_count": 160,
     "metadata": {},
     "output_type": "execute_result"
    }
   ],
   "source": [
    "loan.annual_inc.quantile(.9)"
   ]
  },
  {
   "cell_type": "code",
   "execution_count": 161,
   "metadata": {},
   "outputs": [],
   "source": [
    "steps = np.linspace(0, 120000.0, 13)\n",
    "np.append(steps, 6000000.0)\n",
    "loan['annual_inc_bins'] = pd.cut(loan['annual_inc'], bins=steps)"
   ]
  },
  {
   "cell_type": "code",
   "execution_count": 162,
   "metadata": {},
   "outputs": [
    {
     "data": {
      "image/png": "[encoded data removed]",
      "text/plain": [
       "<Figure size 432x288 with 1 Axes>"
      ]
     },
     "metadata": {
      "needs_background": "light"
     },
     "output_type": "display_data"
    }
   ],
   "source": [
    "bivariate_analysis(loan, 'annual_inc_bins', label_rotation=90)"
   ]
  },
  {
   "cell_type": "code",
   "execution_count": 163,
   "metadata": {},
   "outputs": [
    {
     "data": {
      "image/png": "[encoded data removed]",
      "text/plain": [
       "<Figure size 432x288 with 1 Axes>"
      ]
     },
     "metadata": {
      "needs_background": "light"
     },
     "output_type": "display_data"
    }
   ],
   "source": [
    "bivariate_analysis_count(loan, 'annual_inc_bins', label_rotation=90)"
   ]
  },
  {
   "cell_type": "markdown",
   "metadata": {},
   "source": [
    "### When seen together with count and percenatge of loan default rate, annual income does not give any variations and it will be ignored for analysis."
   ]
  },
  {
   "cell_type": "markdown",
   "metadata": {},
   "source": [
    "## Multivariate Analysis"
   ]
  },
  {
   "cell_type": "markdown",
   "metadata": {},
   "source": [
    "### Common function to generate heat map for two variables and loan charged off rate "
   ]
  },
  {
   "cell_type": "code",
   "execution_count": 164,
   "metadata": {},
   "outputs": [],
   "source": [
    "def draw_heatmap(df, x_axis, y_axis):\n",
    "    df_groupby_pivot = df.pivot_table(index=x_axis, columns=y_axis, values='loan_status_qnt', aggfunc=percentage_estimator)\n",
    "    df_groupby_pivot.fillna(0, inplace=True)\n",
    "    fig, ax = plt.subplots(figsize=(12,6))\n",
    "    sns.heatmap(data=df_groupby_pivot, annot=True, ax=ax)\n",
    "    \n",
    "def draw_heatmap_count(df, x_axis, y_axis):\n",
    "    df_groupby_pivot = df.pivot_table(index=x_axis, columns=y_axis, values='loan_status_qnt', aggfunc=sum)\n",
    "    df_groupby_pivot.fillna(0, inplace=True)\n",
    "    fig, ax = plt.subplots(figsize=(12,6))\n",
    "    sns.heatmap(data=df_groupby_pivot, annot=True, ax=ax)"
   ]
  },
  {
   "cell_type": "markdown",
   "metadata": {},
   "source": [
    "### Compare Grade and Purpose against loan default rate"
   ]
  },
  {
   "cell_type": "code",
   "execution_count": 165,
   "metadata": {},
   "outputs": [
    {
     "data": {
      "image/png": "[encoded data removed]",
      "text/plain": [
       "<Figure size 864x432 with 2 Axes>"
      ]
     },
     "metadata": {
      "needs_background": "light"
     },
     "output_type": "display_data"
    }
   ],
   "source": [
    "draw_heatmap(loan, 'grade', 'purpose')"
   ]
  },
  {
   "cell_type": "code",
   "execution_count": 166,
   "metadata": {},
   "outputs": [
    {
     "data": {
      "image/png": "[encoded data removed]",
      "text/plain": [
       "<Figure size 864x432 with 2 Axes>"
      ]
     },
     "metadata": {
      "needs_background": "light"
     },
     "output_type": "display_data"
    }
   ],
   "source": [
    "draw_heatmap_count(loan, 'grade', 'purpose')"
   ]
  },
  {
   "cell_type": "markdown",
   "metadata": {},
   "source": [
    "### Default is high in case of Grade G and car medical, small business and renewable energy loans"
   ]
  },
  {
   "cell_type": "markdown",
   "metadata": {},
   "source": [
    "### Compare with grade and term"
   ]
  },
  {
   "cell_type": "code",
   "execution_count": 167,
   "metadata": {},
   "outputs": [
    {
     "data": {
      "image/png": "[encoded data removed]",
      "text/plain": [
       "<Figure size 864x432 with 2 Axes>"
      ]
     },
     "metadata": {
      "needs_background": "light"
     },
     "output_type": "display_data"
    }
   ],
   "source": [
    "draw_heatmap(loan, 'grade', 'term')"
   ]
  },
  {
   "cell_type": "code",
   "execution_count": 168,
   "metadata": {},
   "outputs": [
    {
     "data": {
      "image/png": "[encoded data removed]",
      "text/plain": [
       "<Figure size 864x432 with 2 Axes>"
      ]
     },
     "metadata": {
      "needs_background": "light"
     },
     "output_type": "display_data"
    }
   ],
   "source": [
    "draw_heatmap_count(loan, 'grade', 'term')"
   ]
  },
  {
   "cell_type": "markdown",
   "metadata": {},
   "source": [
    "### 60 month term seems to have more loan default rate for all grades with significant number of laons."
   ]
  },
  {
   "cell_type": "markdown",
   "metadata": {},
   "source": [
    "### Grade and Varification Status"
   ]
  },
  {
   "cell_type": "code",
   "execution_count": 169,
   "metadata": {},
   "outputs": [
    {
     "data": {
      "image/png": "[encoded data removed]",
      "text/plain": [
       "<Figure size 864x432 with 2 Axes>"
      ]
     },
     "metadata": {
      "needs_background": "light"
     },
     "output_type": "display_data"
    }
   ],
   "source": [
    "draw_heatmap(loan, 'grade', 'verification_status')"
   ]
  },
  {
   "cell_type": "code",
   "execution_count": 170,
   "metadata": {},
   "outputs": [
    {
     "data": {
      "image/png": "[encoded data removed]",
      "text/plain": [
       "<Figure size 864x432 with 2 Axes>"
      ]
     },
     "metadata": {
      "needs_background": "light"
     },
     "output_type": "display_data"
    }
   ],
   "source": [
    "draw_heatmap_count(loan, 'grade', 'verification_status')"
   ]
  },
  {
   "cell_type": "markdown",
   "metadata": {},
   "source": [
    "### It seems when Grade is G and income is not verified deafult rate is very high. But very few loans were offered with in that category."
   ]
  },
  {
   "cell_type": "code",
   "execution_count": 171,
   "metadata": {},
   "outputs": [
    {
     "data": {
      "image/png": "[encoded data removed]",
      "text/plain": [
       "<Figure size 864x432 with 2 Axes>"
      ]
     },
     "metadata": {
      "needs_background": "light"
     },
     "output_type": "display_data"
    }
   ],
   "source": [
    "draw_heatmap(loan, 'grade', 'loan_amnt_bins')"
   ]
  },
  {
   "cell_type": "code",
   "execution_count": 172,
   "metadata": {},
   "outputs": [
    {
     "data": {
      "image/png": "[encoded data removed]",
      "text/plain": [
       "<Figure size 864x432 with 2 Axes>"
      ]
     },
     "metadata": {
      "needs_background": "light"
     },
     "output_type": "display_data"
    }
   ],
   "source": [
    "draw_heatmap_count(loan, 'grade', 'loan_amnt_bins')"
   ]
  },
  {
   "cell_type": "markdown",
   "metadata": {},
   "source": [
    "### Term and DTI"
   ]
  },
  {
   "cell_type": "code",
   "execution_count": 173,
   "metadata": {},
   "outputs": [
    {
     "data": {
      "image/png": "[encoded data removed]",
      "text/plain": [
       "<Figure size 864x432 with 2 Axes>"
      ]
     },
     "metadata": {
      "needs_background": "light"
     },
     "output_type": "display_data"
    }
   ],
   "source": [
    "draw_heatmap(loan, 'dti_bins','term')"
   ]
  },
  {
   "cell_type": "code",
   "execution_count": 174,
   "metadata": {},
   "outputs": [
    {
     "data": {
      "image/png": "[encoded data removed]",
      "text/plain": [
       "<Figure size 864x432 with 2 Axes>"
      ]
     },
     "metadata": {
      "needs_background": "light"
     },
     "output_type": "display_data"
    }
   ],
   "source": [
    "draw_heatmap_count(loan, 'dti_bins','term')"
   ]
  },
  {
   "cell_type": "markdown",
   "metadata": {},
   "source": [
    "### Laon default rate is consistently high in 60 months term. It increases further slightly with increase in DTI"
   ]
  },
  {
   "cell_type": "markdown",
   "metadata": {},
   "source": [
    "### Term and loan amount"
   ]
  },
  {
   "cell_type": "code",
   "execution_count": 175,
   "metadata": {},
   "outputs": [
    {
     "data": {
      "image/png": "[encoded data removed]",
      "text/plain": [
       "<Figure size 864x432 with 2 Axes>"
      ]
     },
     "metadata": {
      "needs_background": "light"
     },
     "output_type": "display_data"
    }
   ],
   "source": [
    "draw_heatmap(loan, 'loan_amnt_bins', 'term')"
   ]
  },
  {
   "cell_type": "code",
   "execution_count": 176,
   "metadata": {},
   "outputs": [
    {
     "data": {
      "image/png": "[encoded data removed]",
      "text/plain": [
       "<Figure size 864x432 with 2 Axes>"
      ]
     },
     "metadata": {
      "needs_background": "light"
     },
     "output_type": "display_data"
    }
   ],
   "source": [
    "draw_heatmap_count(loan, 'loan_amnt_bins', 'term')"
   ]
  },
  {
   "cell_type": "markdown",
   "metadata": {},
   "source": [
    "### Laon default rate is consistently high in 60 months term."
   ]
  },
  {
   "cell_type": "code",
   "execution_count": 177,
   "metadata": {},
   "outputs": [
    {
     "data": {
      "image/png": "[encoded data removed]",
      "text/plain": [
       "<Figure size 864x432 with 2 Axes>"
      ]
     },
     "metadata": {
      "needs_background": "light"
     },
     "output_type": "display_data"
    }
   ],
   "source": [
    "draw_heatmap(loan, 'purpose', 'term')"
   ]
  },
  {
   "cell_type": "code",
   "execution_count": 178,
   "metadata": {},
   "outputs": [
    {
     "data": {
      "image/png": "[encoded data removed]",
      "text/plain": [
       "<Figure size 864x432 with 2 Axes>"
      ]
     },
     "metadata": {
      "needs_background": "light"
     },
     "output_type": "display_data"
    }
   ],
   "source": [
    "draw_heatmap_count(loan, 'purpose', 'term')"
   ]
  },
  {
   "cell_type": "markdown",
   "metadata": {},
   "source": [
    "### Educational loan with 60 month is really bad performer 43% default rate and small business with 60 month is also very hgh 35%"
   ]
  },
  {
   "cell_type": "markdown",
   "metadata": {},
   "source": [
    "### Term and interest rate"
   ]
  },
  {
   "cell_type": "code",
   "execution_count": 179,
   "metadata": {},
   "outputs": [
    {
     "data": {
      "image/png": "[encoded data removed]",
      "text/plain": [
       "<Figure size 864x432 with 2 Axes>"
      ]
     },
     "metadata": {
      "needs_background": "light"
     },
     "output_type": "display_data"
    }
   ],
   "source": [
    "draw_heatmap(loan, 'int_rate_bin', 'term')"
   ]
  },
  {
   "cell_type": "markdown",
   "metadata": {},
   "source": [
    "### Purpose and interest rate"
   ]
  },
  {
   "cell_type": "code",
   "execution_count": 180,
   "metadata": {},
   "outputs": [
    {
     "data": {
      "image/png": "[encoded data removed]",
      "text/plain": [
       "<Figure size 864x432 with 2 Axes>"
      ]
     },
     "metadata": {
      "needs_background": "light"
     },
     "output_type": "display_data"
    }
   ],
   "source": [
    "draw_heatmap(loan, 'int_rate_bin', 'purpose')"
   ]
  },
  {
   "cell_type": "markdown",
   "metadata": {},
   "source": [
    "### Rate of default is very high when interest rate is high > 15 and loan type is educational and small business, renewable energy, medical or house"
   ]
  }
 ],
 "metadata": {
  "kernelspec": {
   "display_name": "Python 3",
   "language": "python",
   "name": "python3"
  },
  "language_info": {
   "codemirror_mode": {
    "name": "ipython",
    "version": 3
   },
   "file_extension": ".py",
   "mimetype": "text/x-python",
   "name": "python",
   "nbconvert_exporter": "python",
   "pygments_lexer": "ipython3",
   "version": "3.8.3"
  }
 },
 "nbformat": 4,
 "nbformat_minor": 4
}
